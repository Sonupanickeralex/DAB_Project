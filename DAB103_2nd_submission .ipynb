{
 "cells": [
  {
   "cell_type": "code",
   "execution_count": 82,
   "metadata": {},
   "outputs": [],
   "source": [
    "#Importing necessary libraries\n",
    "import pandas as pd\n",
    "import numpy as np\n",
    "import matplotlib.pyplot as plt\n",
    "import seaborn as sns"
   ]
  },
  {
   "cell_type": "code",
   "execution_count": 83,
   "metadata": {},
   "outputs": [],
   "source": [
    "#Loading the datasets\n",
    "ida = pd.read_csv('C:/Users/IDA_Project_dataset.csv')\n",
    "ibrd = pd.read_csv('C:/Users/IBRD.csv')"
   ]
  },
  {
   "cell_type": "markdown",
   "metadata": {},
   "source": [
    "# Exploratory Data Analysis of IDA and IBRD datasets."
   ]
  },
  {
   "cell_type": "markdown",
   "metadata": {},
   "source": [
    "##  Dimensions."
   ]
  },
  {
   "cell_type": "code",
   "execution_count": 84,
   "metadata": {},
   "outputs": [
    {
     "data": {
      "text/plain": [
       "(9382, 30)"
      ]
     },
     "execution_count": 84,
     "metadata": {},
     "output_type": "execute_result"
    }
   ],
   "source": [
    "#Dimension of IDA dataset.\n",
    "ida.shape"
   ]
  },
  {
   "cell_type": "code",
   "execution_count": 85,
   "metadata": {},
   "outputs": [
    {
     "data": {
      "text/plain": [
       "(9057, 33)"
      ]
     },
     "execution_count": 85,
     "metadata": {},
     "output_type": "execute_result"
    }
   ],
   "source": [
    "#Dimension of IBRD dataset.\n",
    "ibrd.shape"
   ]
  },
  {
   "cell_type": "markdown",
   "metadata": {},
   "source": [
    "##  Column Names."
   ]
  },
  {
   "cell_type": "code",
   "execution_count": 86,
   "metadata": {},
   "outputs": [
    {
     "data": {
      "text/plain": [
       "Index(['End of Period', 'Credit Number', 'Region', 'Country Code', 'Country',\n",
       "       'Borrower', 'Credit Status', 'Service Charge Rate',\n",
       "       'Currency of Commitment', 'Project ID', 'Project Name',\n",
       "       'Original Principal Amount', 'Cancelled Amount', 'Undisbursed Amount',\n",
       "       'Disbursed Amount', 'Repaid to IDA', 'Due to IDA',\n",
       "       'Exchange Adjustment', 'Borrower's Obligation', 'Sold 3rd Party',\n",
       "       'Repaid 3rd Party', 'Due 3rd Party', 'Credits Held',\n",
       "       'First Repayment Date', 'Last Repayment Date', 'Agreement Signing Date',\n",
       "       'Board Approval Date', 'Effective Date (Most Recent)',\n",
       "       'Closed Date (Most Recent)', 'Last Disbursement Date'],\n",
       "      dtype='object')"
      ]
     },
     "execution_count": 86,
     "metadata": {},
     "output_type": "execute_result"
    }
   ],
   "source": [
    "#Column names of IDA dataset.\n",
    "ida.columns"
   ]
  },
  {
   "cell_type": "code",
   "execution_count": 87,
   "metadata": {},
   "outputs": [
    {
     "data": {
      "text/plain": [
       "Index(['End of Period', 'Loan Number', 'Region', 'Country Code', 'Country',\n",
       "       'Borrower', 'Guarantor Country Code', 'Guarantor', 'Loan Type',\n",
       "       'Loan Status', 'Interest Rate', 'Currency of Commitment', 'Project ID',\n",
       "       'Project Name', 'Original Principal Amount', 'Cancelled Amount',\n",
       "       'Undisbursed Amount', 'Disbursed Amount', 'Repaid to IBRD',\n",
       "       'Due to IBRD', 'Exchange Adjustment', 'Borrower's Obligation',\n",
       "       'Sold 3rd Party', 'Repaid 3rd Party', 'Due 3rd Party', 'Loans Held',\n",
       "       'First Repayment Date', 'Last Repayment Date', 'Agreement Signing Date',\n",
       "       'Board Approval Date', 'Effective Date (Most Recent)',\n",
       "       'Closed Date (Most Recent)', 'Last Disbursement Date'],\n",
       "      dtype='object')"
      ]
     },
     "execution_count": 87,
     "metadata": {},
     "output_type": "execute_result"
    }
   ],
   "source": [
    "#Column names of IBRD dataset.\n",
    "ibrd.columns"
   ]
  },
  {
   "cell_type": "markdown",
   "metadata": {},
   "source": [
    "## Data Types of each Columns."
   ]
  },
  {
   "cell_type": "code",
   "execution_count": 88,
   "metadata": {},
   "outputs": [
    {
     "data": {
      "text/plain": [
       "End of Period                    object\n",
       "Credit Number                    object\n",
       "Region                           object\n",
       "Country Code                     object\n",
       "Country                          object\n",
       "Borrower                         object\n",
       "Credit Status                    object\n",
       "Service Charge Rate             float64\n",
       "Currency of Commitment           object\n",
       "Project ID                       object\n",
       "Project Name                     object\n",
       "Original Principal Amount       float64\n",
       "Cancelled Amount                float64\n",
       "Undisbursed Amount              float64\n",
       "Disbursed Amount                float64\n",
       "Repaid to IDA                   float64\n",
       "Due to IDA                      float64\n",
       "Exchange Adjustment               int64\n",
       "Borrower's Obligation           float64\n",
       "Sold 3rd Party                  float64\n",
       "Repaid 3rd Party                float64\n",
       "Due 3rd Party                     int64\n",
       "Credits Held                    float64\n",
       "First Repayment Date             object\n",
       "Last Repayment Date              object\n",
       "Agreement Signing Date           object\n",
       "Board Approval Date              object\n",
       "Effective Date (Most Recent)     object\n",
       "Closed Date (Most Recent)        object\n",
       "Last Disbursement Date           object\n",
       "dtype: object"
      ]
     },
     "execution_count": 88,
     "metadata": {},
     "output_type": "execute_result"
    }
   ],
   "source": [
    "#Data types of different columns from IDA dataset.\n",
    "ida.dtypes"
   ]
  },
  {
   "cell_type": "code",
   "execution_count": 89,
   "metadata": {},
   "outputs": [
    {
     "data": {
      "text/plain": [
       "End of Period                    object\n",
       "Loan Number                      object\n",
       "Region                           object\n",
       "Country Code                     object\n",
       "Country                          object\n",
       "Borrower                         object\n",
       "Guarantor Country Code           object\n",
       "Guarantor                        object\n",
       "Loan Type                        object\n",
       "Loan Status                      object\n",
       "Interest Rate                   float64\n",
       "Currency of Commitment          float64\n",
       "Project ID                       object\n",
       "Project Name                     object\n",
       "Original Principal Amount       float64\n",
       "Cancelled Amount                float64\n",
       "Undisbursed Amount              float64\n",
       "Disbursed Amount                float64\n",
       "Repaid to IBRD                  float64\n",
       "Due to IBRD                     float64\n",
       "Exchange Adjustment             float64\n",
       "Borrower's Obligation           float64\n",
       "Sold 3rd Party                  float64\n",
       "Repaid 3rd Party                float64\n",
       "Due 3rd Party                     int64\n",
       "Loans Held                      float64\n",
       "First Repayment Date             object\n",
       "Last Repayment Date              object\n",
       "Agreement Signing Date           object\n",
       "Board Approval Date              object\n",
       "Effective Date (Most Recent)     object\n",
       "Closed Date (Most Recent)        object\n",
       "Last Disbursement Date           object\n",
       "dtype: object"
      ]
     },
     "execution_count": 89,
     "metadata": {},
     "output_type": "execute_result"
    }
   ],
   "source": [
    "#Data types of different columns from IBRD dataset.\n",
    "ibrd.dtypes"
   ]
  },
  {
   "cell_type": "markdown",
   "metadata": {},
   "source": [
    "## First 5 observations from each dataset"
   ]
  },
  {
   "cell_type": "code",
   "execution_count": 90,
   "metadata": {},
   "outputs": [
    {
     "data": {
      "text/html": [
       "<div>\n",
       "<style scoped>\n",
       "    .dataframe tbody tr th:only-of-type {\n",
       "        vertical-align: middle;\n",
       "    }\n",
       "\n",
       "    .dataframe tbody tr th {\n",
       "        vertical-align: top;\n",
       "    }\n",
       "\n",
       "    .dataframe thead th {\n",
       "        text-align: right;\n",
       "    }\n",
       "</style>\n",
       "<table border=\"1\" class=\"dataframe\">\n",
       "  <thead>\n",
       "    <tr style=\"text-align: right;\">\n",
       "      <th></th>\n",
       "      <th>End of Period</th>\n",
       "      <th>Credit Number</th>\n",
       "      <th>Region</th>\n",
       "      <th>Country Code</th>\n",
       "      <th>Country</th>\n",
       "      <th>Borrower</th>\n",
       "      <th>Credit Status</th>\n",
       "      <th>Service Charge Rate</th>\n",
       "      <th>Currency of Commitment</th>\n",
       "      <th>Project ID</th>\n",
       "      <th>...</th>\n",
       "      <th>Repaid 3rd Party</th>\n",
       "      <th>Due 3rd Party</th>\n",
       "      <th>Credits Held</th>\n",
       "      <th>First Repayment Date</th>\n",
       "      <th>Last Repayment Date</th>\n",
       "      <th>Agreement Signing Date</th>\n",
       "      <th>Board Approval Date</th>\n",
       "      <th>Effective Date (Most Recent)</th>\n",
       "      <th>Closed Date (Most Recent)</th>\n",
       "      <th>Last Disbursement Date</th>\n",
       "    </tr>\n",
       "  </thead>\n",
       "  <tbody>\n",
       "    <tr>\n",
       "      <th>0</th>\n",
       "      <td>05/31/2021 12:00:00 AM</td>\n",
       "      <td>IDA00010</td>\n",
       "      <td>LATIN AMERICA AND CARIBBEAN</td>\n",
       "      <td>HN</td>\n",
       "      <td>Honduras</td>\n",
       "      <td>MINISTERIO DE HACIENDA Y CREDITO PUBLICO</td>\n",
       "      <td>Fully Repaid</td>\n",
       "      <td>0.75</td>\n",
       "      <td>USD</td>\n",
       "      <td>P007335</td>\n",
       "      <td>...</td>\n",
       "      <td>0.0</td>\n",
       "      <td>0</td>\n",
       "      <td>0.0</td>\n",
       "      <td>09/01/1971 12:00:00 AM</td>\n",
       "      <td>03/01/2011 12:00:00 AM</td>\n",
       "      <td>05/12/1961 12:00:00 AM</td>\n",
       "      <td>05/11/1961 12:00:00 AM</td>\n",
       "      <td>06/29/1961 12:00:00 AM</td>\n",
       "      <td>07/31/1967 12:00:00 AM</td>\n",
       "      <td>NaN</td>\n",
       "    </tr>\n",
       "    <tr>\n",
       "      <th>1</th>\n",
       "      <td>05/31/2021 12:00:00 AM</td>\n",
       "      <td>IDA00020</td>\n",
       "      <td>AFRICA EAST</td>\n",
       "      <td>SD</td>\n",
       "      <td>Sudan</td>\n",
       "      <td>Ministry of Finance and Economy Planning</td>\n",
       "      <td>Repaying</td>\n",
       "      <td>0.75</td>\n",
       "      <td>USD</td>\n",
       "      <td>P002553</td>\n",
       "      <td>...</td>\n",
       "      <td>0.0</td>\n",
       "      <td>0</td>\n",
       "      <td>0.0</td>\n",
       "      <td>07/15/1971 12:00:00 AM</td>\n",
       "      <td>01/15/2011 12:00:00 AM</td>\n",
       "      <td>06/14/1961 12:00:00 AM</td>\n",
       "      <td>06/13/1961 12:00:00 AM</td>\n",
       "      <td>10/19/1961 12:00:00 AM</td>\n",
       "      <td>12/31/1971 12:00:00 AM</td>\n",
       "      <td>NaN</td>\n",
       "    </tr>\n",
       "    <tr>\n",
       "      <th>2</th>\n",
       "      <td>05/31/2021 12:00:00 AM</td>\n",
       "      <td>IDA00030</td>\n",
       "      <td>SOUTH ASIA</td>\n",
       "      <td>IN</td>\n",
       "      <td>India</td>\n",
       "      <td>CONTROLLER OF AID ACCOUNTS &amp; AUDIT</td>\n",
       "      <td>Fully Repaid</td>\n",
       "      <td>0.75</td>\n",
       "      <td>USD</td>\n",
       "      <td>P009610</td>\n",
       "      <td>...</td>\n",
       "      <td>0.0</td>\n",
       "      <td>0</td>\n",
       "      <td>0.0</td>\n",
       "      <td>08/15/1971 12:00:00 AM</td>\n",
       "      <td>02/15/2011 12:00:00 AM</td>\n",
       "      <td>06/21/1961 12:00:00 AM</td>\n",
       "      <td>06/20/1961 12:00:00 AM</td>\n",
       "      <td>08/25/1961 12:00:00 AM</td>\n",
       "      <td>06/30/1967 12:00:00 AM</td>\n",
       "      <td>NaN</td>\n",
       "    </tr>\n",
       "    <tr>\n",
       "      <th>3</th>\n",
       "      <td>05/31/2021 12:00:00 AM</td>\n",
       "      <td>IDA00040</td>\n",
       "      <td>LATIN AMERICA AND CARIBBEAN</td>\n",
       "      <td>CL</td>\n",
       "      <td>Chile</td>\n",
       "      <td>MINISTERIO DE OBRAS PUBLICAS</td>\n",
       "      <td>Fully Repaid</td>\n",
       "      <td>0.75</td>\n",
       "      <td>USD</td>\n",
       "      <td>P006585</td>\n",
       "      <td>...</td>\n",
       "      <td>0.0</td>\n",
       "      <td>0</td>\n",
       "      <td>0.0</td>\n",
       "      <td>12/01/1971 12:00:00 AM</td>\n",
       "      <td>06/01/2011 12:00:00 AM</td>\n",
       "      <td>06/28/1961 12:00:00 AM</td>\n",
       "      <td>06/27/1961 12:00:00 AM</td>\n",
       "      <td>12/21/1961 12:00:00 AM</td>\n",
       "      <td>12/31/1968 12:00:00 AM</td>\n",
       "      <td>NaN</td>\n",
       "    </tr>\n",
       "    <tr>\n",
       "      <th>4</th>\n",
       "      <td>05/31/2021 12:00:00 AM</td>\n",
       "      <td>IDA00050</td>\n",
       "      <td>LATIN AMERICA AND CARIBBEAN</td>\n",
       "      <td>CO</td>\n",
       "      <td>Colombia</td>\n",
       "      <td>MINISTERIO DE HACIENDA Y CREDITO PUBLICO</td>\n",
       "      <td>Fully Repaid</td>\n",
       "      <td>0.75</td>\n",
       "      <td>USD</td>\n",
       "      <td>P006701</td>\n",
       "      <td>...</td>\n",
       "      <td>0.0</td>\n",
       "      <td>0</td>\n",
       "      <td>0.0</td>\n",
       "      <td>12/01/1971 12:00:00 AM</td>\n",
       "      <td>06/01/2011 12:00:00 AM</td>\n",
       "      <td>08/28/1961 12:00:00 AM</td>\n",
       "      <td>08/15/1961 12:00:00 AM</td>\n",
       "      <td>11/25/1961 12:00:00 AM</td>\n",
       "      <td>12/31/1968 12:00:00 AM</td>\n",
       "      <td>NaN</td>\n",
       "    </tr>\n",
       "  </tbody>\n",
       "</table>\n",
       "<p>5 rows × 30 columns</p>\n",
       "</div>"
      ],
      "text/plain": [
       "            End of Period Credit Number                       Region  \\\n",
       "0  05/31/2021 12:00:00 AM      IDA00010  LATIN AMERICA AND CARIBBEAN   \n",
       "1  05/31/2021 12:00:00 AM      IDA00020                  AFRICA EAST   \n",
       "2  05/31/2021 12:00:00 AM      IDA00030                   SOUTH ASIA   \n",
       "3  05/31/2021 12:00:00 AM      IDA00040  LATIN AMERICA AND CARIBBEAN   \n",
       "4  05/31/2021 12:00:00 AM      IDA00050  LATIN AMERICA AND CARIBBEAN   \n",
       "\n",
       "  Country Code   Country                                  Borrower  \\\n",
       "0           HN  Honduras  MINISTERIO DE HACIENDA Y CREDITO PUBLICO   \n",
       "1           SD     Sudan  Ministry of Finance and Economy Planning   \n",
       "2           IN     India        CONTROLLER OF AID ACCOUNTS & AUDIT   \n",
       "3           CL     Chile              MINISTERIO DE OBRAS PUBLICAS   \n",
       "4           CO  Colombia  MINISTERIO DE HACIENDA Y CREDITO PUBLICO   \n",
       "\n",
       "  Credit Status  Service Charge Rate Currency of Commitment Project ID  ...  \\\n",
       "0  Fully Repaid                 0.75                    USD    P007335  ...   \n",
       "1      Repaying                 0.75                    USD    P002553  ...   \n",
       "2  Fully Repaid                 0.75                    USD    P009610  ...   \n",
       "3  Fully Repaid                 0.75                    USD    P006585  ...   \n",
       "4  Fully Repaid                 0.75                    USD    P006701  ...   \n",
       "\n",
       "  Repaid 3rd Party  Due 3rd Party  Credits Held    First Repayment Date  \\\n",
       "0              0.0              0           0.0  09/01/1971 12:00:00 AM   \n",
       "1              0.0              0           0.0  07/15/1971 12:00:00 AM   \n",
       "2              0.0              0           0.0  08/15/1971 12:00:00 AM   \n",
       "3              0.0              0           0.0  12/01/1971 12:00:00 AM   \n",
       "4              0.0              0           0.0  12/01/1971 12:00:00 AM   \n",
       "\n",
       "      Last Repayment Date  Agreement Signing Date     Board Approval Date  \\\n",
       "0  03/01/2011 12:00:00 AM  05/12/1961 12:00:00 AM  05/11/1961 12:00:00 AM   \n",
       "1  01/15/2011 12:00:00 AM  06/14/1961 12:00:00 AM  06/13/1961 12:00:00 AM   \n",
       "2  02/15/2011 12:00:00 AM  06/21/1961 12:00:00 AM  06/20/1961 12:00:00 AM   \n",
       "3  06/01/2011 12:00:00 AM  06/28/1961 12:00:00 AM  06/27/1961 12:00:00 AM   \n",
       "4  06/01/2011 12:00:00 AM  08/28/1961 12:00:00 AM  08/15/1961 12:00:00 AM   \n",
       "\n",
       "   Effective Date (Most Recent)  Closed Date (Most Recent)  \\\n",
       "0        06/29/1961 12:00:00 AM     07/31/1967 12:00:00 AM   \n",
       "1        10/19/1961 12:00:00 AM     12/31/1971 12:00:00 AM   \n",
       "2        08/25/1961 12:00:00 AM     06/30/1967 12:00:00 AM   \n",
       "3        12/21/1961 12:00:00 AM     12/31/1968 12:00:00 AM   \n",
       "4        11/25/1961 12:00:00 AM     12/31/1968 12:00:00 AM   \n",
       "\n",
       "   Last Disbursement Date  \n",
       "0                     NaN  \n",
       "1                     NaN  \n",
       "2                     NaN  \n",
       "3                     NaN  \n",
       "4                     NaN  \n",
       "\n",
       "[5 rows x 30 columns]"
      ]
     },
     "execution_count": 90,
     "metadata": {},
     "output_type": "execute_result"
    }
   ],
   "source": [
    "#first 5 rows of IDA dataset\n",
    "ida.head()"
   ]
  },
  {
   "cell_type": "code",
   "execution_count": 91,
   "metadata": {},
   "outputs": [
    {
     "data": {
      "text/html": [
       "<div>\n",
       "<style scoped>\n",
       "    .dataframe tbody tr th:only-of-type {\n",
       "        vertical-align: middle;\n",
       "    }\n",
       "\n",
       "    .dataframe tbody tr th {\n",
       "        vertical-align: top;\n",
       "    }\n",
       "\n",
       "    .dataframe thead th {\n",
       "        text-align: right;\n",
       "    }\n",
       "</style>\n",
       "<table border=\"1\" class=\"dataframe\">\n",
       "  <thead>\n",
       "    <tr style=\"text-align: right;\">\n",
       "      <th></th>\n",
       "      <th>End of Period</th>\n",
       "      <th>Loan Number</th>\n",
       "      <th>Region</th>\n",
       "      <th>Country Code</th>\n",
       "      <th>Country</th>\n",
       "      <th>Borrower</th>\n",
       "      <th>Guarantor Country Code</th>\n",
       "      <th>Guarantor</th>\n",
       "      <th>Loan Type</th>\n",
       "      <th>Loan Status</th>\n",
       "      <th>...</th>\n",
       "      <th>Repaid 3rd Party</th>\n",
       "      <th>Due 3rd Party</th>\n",
       "      <th>Loans Held</th>\n",
       "      <th>First Repayment Date</th>\n",
       "      <th>Last Repayment Date</th>\n",
       "      <th>Agreement Signing Date</th>\n",
       "      <th>Board Approval Date</th>\n",
       "      <th>Effective Date (Most Recent)</th>\n",
       "      <th>Closed Date (Most Recent)</th>\n",
       "      <th>Last Disbursement Date</th>\n",
       "    </tr>\n",
       "  </thead>\n",
       "  <tbody>\n",
       "    <tr>\n",
       "      <th>0</th>\n",
       "      <td>05/31/2021 12:00:00 AM</td>\n",
       "      <td>IBRD00010</td>\n",
       "      <td>EUROPE AND CENTRAL ASIA</td>\n",
       "      <td>FR</td>\n",
       "      <td>France</td>\n",
       "      <td>CREDIT NATIONAL</td>\n",
       "      <td>FR</td>\n",
       "      <td>France</td>\n",
       "      <td>NPL</td>\n",
       "      <td>Fully Repaid</td>\n",
       "      <td>...</td>\n",
       "      <td>2.499620e+08</td>\n",
       "      <td>0</td>\n",
       "      <td>0.0</td>\n",
       "      <td>11/01/1952 12:00:00 AM</td>\n",
       "      <td>05/01/1977 12:00:00 AM</td>\n",
       "      <td>05/09/1947 12:00:00 AM</td>\n",
       "      <td>05/09/1947 12:00:00 AM</td>\n",
       "      <td>06/09/1947 12:00:00 AM</td>\n",
       "      <td>12/31/1947 12:00:00 AM</td>\n",
       "      <td>NaN</td>\n",
       "    </tr>\n",
       "    <tr>\n",
       "      <th>1</th>\n",
       "      <td>05/31/2021 12:00:00 AM</td>\n",
       "      <td>IBRD00020</td>\n",
       "      <td>EUROPE AND CENTRAL ASIA</td>\n",
       "      <td>NL</td>\n",
       "      <td>Netherlands</td>\n",
       "      <td>NaN</td>\n",
       "      <td>NaN</td>\n",
       "      <td>NaN</td>\n",
       "      <td>NPL</td>\n",
       "      <td>Fully Repaid</td>\n",
       "      <td>...</td>\n",
       "      <td>8.767200e+07</td>\n",
       "      <td>0</td>\n",
       "      <td>0.0</td>\n",
       "      <td>04/01/1952 12:00:00 AM</td>\n",
       "      <td>10/01/1972 12:00:00 AM</td>\n",
       "      <td>08/07/1947 12:00:00 AM</td>\n",
       "      <td>08/07/1947 12:00:00 AM</td>\n",
       "      <td>09/11/1947 12:00:00 AM</td>\n",
       "      <td>03/31/1948 12:00:00 AM</td>\n",
       "      <td>NaN</td>\n",
       "    </tr>\n",
       "    <tr>\n",
       "      <th>2</th>\n",
       "      <td>05/31/2021 12:00:00 AM</td>\n",
       "      <td>IBRD00021</td>\n",
       "      <td>EUROPE AND CENTRAL ASIA</td>\n",
       "      <td>NL</td>\n",
       "      <td>Netherlands</td>\n",
       "      <td>NaN</td>\n",
       "      <td>NaN</td>\n",
       "      <td>NaN</td>\n",
       "      <td>NPL</td>\n",
       "      <td>Fully Repaid</td>\n",
       "      <td>...</td>\n",
       "      <td>3.955788e+06</td>\n",
       "      <td>0</td>\n",
       "      <td>0.0</td>\n",
       "      <td>04/01/1953 12:00:00 AM</td>\n",
       "      <td>04/01/1954 12:00:00 AM</td>\n",
       "      <td>05/25/1948 12:00:00 AM</td>\n",
       "      <td>08/07/1947 12:00:00 AM</td>\n",
       "      <td>06/01/1948 12:00:00 AM</td>\n",
       "      <td>06/30/1948 12:00:00 AM</td>\n",
       "      <td>NaN</td>\n",
       "    </tr>\n",
       "    <tr>\n",
       "      <th>3</th>\n",
       "      <td>05/31/2021 12:00:00 AM</td>\n",
       "      <td>IBRD00030</td>\n",
       "      <td>EUROPE AND CENTRAL ASIA</td>\n",
       "      <td>DK</td>\n",
       "      <td>Denmark</td>\n",
       "      <td>NaN</td>\n",
       "      <td>NaN</td>\n",
       "      <td>NaN</td>\n",
       "      <td>NPL</td>\n",
       "      <td>Fully Repaid</td>\n",
       "      <td>...</td>\n",
       "      <td>2.222900e+07</td>\n",
       "      <td>0</td>\n",
       "      <td>0.0</td>\n",
       "      <td>02/01/1953 12:00:00 AM</td>\n",
       "      <td>08/01/1972 12:00:00 AM</td>\n",
       "      <td>08/22/1947 12:00:00 AM</td>\n",
       "      <td>08/22/1947 12:00:00 AM</td>\n",
       "      <td>10/17/1947 12:00:00 AM</td>\n",
       "      <td>03/31/1949 12:00:00 AM</td>\n",
       "      <td>NaN</td>\n",
       "    </tr>\n",
       "    <tr>\n",
       "      <th>4</th>\n",
       "      <td>05/31/2021 12:00:00 AM</td>\n",
       "      <td>IBRD00040</td>\n",
       "      <td>EUROPE AND CENTRAL ASIA</td>\n",
       "      <td>LU</td>\n",
       "      <td>Luxembourg</td>\n",
       "      <td>NaN</td>\n",
       "      <td>NaN</td>\n",
       "      <td>NaN</td>\n",
       "      <td>NPL</td>\n",
       "      <td>Fully Repaid</td>\n",
       "      <td>...</td>\n",
       "      <td>1.014200e+07</td>\n",
       "      <td>0</td>\n",
       "      <td>0.0</td>\n",
       "      <td>07/15/1949 12:00:00 AM</td>\n",
       "      <td>07/15/1972 12:00:00 AM</td>\n",
       "      <td>08/28/1947 12:00:00 AM</td>\n",
       "      <td>08/28/1947 12:00:00 AM</td>\n",
       "      <td>10/24/1947 12:00:00 AM</td>\n",
       "      <td>03/31/1949 12:00:00 AM</td>\n",
       "      <td>NaN</td>\n",
       "    </tr>\n",
       "  </tbody>\n",
       "</table>\n",
       "<p>5 rows × 33 columns</p>\n",
       "</div>"
      ],
      "text/plain": [
       "            End of Period Loan Number                   Region Country Code  \\\n",
       "0  05/31/2021 12:00:00 AM   IBRD00010  EUROPE AND CENTRAL ASIA           FR   \n",
       "1  05/31/2021 12:00:00 AM   IBRD00020  EUROPE AND CENTRAL ASIA           NL   \n",
       "2  05/31/2021 12:00:00 AM   IBRD00021  EUROPE AND CENTRAL ASIA           NL   \n",
       "3  05/31/2021 12:00:00 AM   IBRD00030  EUROPE AND CENTRAL ASIA           DK   \n",
       "4  05/31/2021 12:00:00 AM   IBRD00040  EUROPE AND CENTRAL ASIA           LU   \n",
       "\n",
       "       Country         Borrower Guarantor Country Code Guarantor Loan Type  \\\n",
       "0       France  CREDIT NATIONAL                     FR    France       NPL   \n",
       "1  Netherlands              NaN                    NaN       NaN       NPL   \n",
       "2  Netherlands              NaN                    NaN       NaN       NPL   \n",
       "3      Denmark              NaN                    NaN       NaN       NPL   \n",
       "4   Luxembourg              NaN                    NaN       NaN       NPL   \n",
       "\n",
       "    Loan Status  ...  Repaid 3rd Party  Due 3rd Party Loans Held  \\\n",
       "0  Fully Repaid  ...      2.499620e+08              0        0.0   \n",
       "1  Fully Repaid  ...      8.767200e+07              0        0.0   \n",
       "2  Fully Repaid  ...      3.955788e+06              0        0.0   \n",
       "3  Fully Repaid  ...      2.222900e+07              0        0.0   \n",
       "4  Fully Repaid  ...      1.014200e+07              0        0.0   \n",
       "\n",
       "     First Repayment Date     Last Repayment Date  Agreement Signing Date  \\\n",
       "0  11/01/1952 12:00:00 AM  05/01/1977 12:00:00 AM  05/09/1947 12:00:00 AM   \n",
       "1  04/01/1952 12:00:00 AM  10/01/1972 12:00:00 AM  08/07/1947 12:00:00 AM   \n",
       "2  04/01/1953 12:00:00 AM  04/01/1954 12:00:00 AM  05/25/1948 12:00:00 AM   \n",
       "3  02/01/1953 12:00:00 AM  08/01/1972 12:00:00 AM  08/22/1947 12:00:00 AM   \n",
       "4  07/15/1949 12:00:00 AM  07/15/1972 12:00:00 AM  08/28/1947 12:00:00 AM   \n",
       "\n",
       "      Board Approval Date  Effective Date (Most Recent)  \\\n",
       "0  05/09/1947 12:00:00 AM        06/09/1947 12:00:00 AM   \n",
       "1  08/07/1947 12:00:00 AM        09/11/1947 12:00:00 AM   \n",
       "2  08/07/1947 12:00:00 AM        06/01/1948 12:00:00 AM   \n",
       "3  08/22/1947 12:00:00 AM        10/17/1947 12:00:00 AM   \n",
       "4  08/28/1947 12:00:00 AM        10/24/1947 12:00:00 AM   \n",
       "\n",
       "   Closed Date (Most Recent)  Last Disbursement Date  \n",
       "0     12/31/1947 12:00:00 AM                     NaN  \n",
       "1     03/31/1948 12:00:00 AM                     NaN  \n",
       "2     06/30/1948 12:00:00 AM                     NaN  \n",
       "3     03/31/1949 12:00:00 AM                     NaN  \n",
       "4     03/31/1949 12:00:00 AM                     NaN  \n",
       "\n",
       "[5 rows x 33 columns]"
      ]
     },
     "execution_count": 91,
     "metadata": {},
     "output_type": "execute_result"
    }
   ],
   "source": [
    "#first 5 rows of IBRD dataset\n",
    "ibrd.head()"
   ]
  },
  {
   "cell_type": "markdown",
   "metadata": {},
   "source": [
    "## Categorical Values of the IDA dataset."
   ]
  },
  {
   "cell_type": "code",
   "execution_count": 92,
   "metadata": {},
   "outputs": [
    {
     "data": {
      "text/plain": [
       "126"
      ]
     },
     "execution_count": 92,
     "metadata": {},
     "output_type": "execute_result"
    }
   ],
   "source": [
    "#Number of unique Countryies in IDA dataset.\n",
    "ida[\"Country\"].nunique()"
   ]
  },
  {
   "cell_type": "code",
   "execution_count": 93,
   "metadata": {},
   "outputs": [
    {
     "data": {
      "text/plain": [
       "8"
      ]
     },
     "execution_count": 93,
     "metadata": {},
     "output_type": "execute_result"
    }
   ],
   "source": [
    "#Number of unique Regions in IDA dataset.\n",
    "ida[\"Region\"].nunique()"
   ]
  },
  {
   "cell_type": "code",
   "execution_count": 94,
   "metadata": {},
   "outputs": [
    {
     "data": {
      "text/plain": [
       "5"
      ]
     },
     "execution_count": 94,
     "metadata": {},
     "output_type": "execute_result"
    }
   ],
   "source": [
    "#Number of Currency of commitment in IDA dataset.\n",
    "ida[\"Currency of Commitment\"].nunique()"
   ]
  },
  {
   "cell_type": "code",
   "execution_count": 95,
   "metadata": {},
   "outputs": [
    {
     "data": {
      "text/plain": [
       "10"
      ]
     },
     "execution_count": 95,
     "metadata": {},
     "output_type": "execute_result"
    }
   ],
   "source": [
    "#Number of Credit status type in IDA dataset.\n",
    "ida[\"Credit Status\"].nunique()"
   ]
  },
  {
   "cell_type": "markdown",
   "metadata": {},
   "source": [
    "In the IDA dataset the the columns 'Region','Credit status' and 'Currency of commitment ' have categorical values."
   ]
  },
  {
   "cell_type": "markdown",
   "metadata": {},
   "source": [
    "## Categorical values of IBRD dataset."
   ]
  },
  {
   "cell_type": "code",
   "execution_count": 96,
   "metadata": {},
   "outputs": [
    {
     "data": {
      "text/plain": [
       "148"
      ]
     },
     "execution_count": 96,
     "metadata": {},
     "output_type": "execute_result"
    }
   ],
   "source": [
    "#Number of unique Countries in IBRD dataset.\n",
    "ibrd[\"Country\"].nunique()"
   ]
  },
  {
   "cell_type": "code",
   "execution_count": 97,
   "metadata": {},
   "outputs": [
    {
     "data": {
      "text/plain": [
       "8"
      ]
     },
     "execution_count": 97,
     "metadata": {},
     "output_type": "execute_result"
    }
   ],
   "source": [
    "#Number of unique Regions in IDA dataset.\n",
    "ibrd[\"Region\"].nunique()"
   ]
  },
  {
   "cell_type": "code",
   "execution_count": 98,
   "metadata": {},
   "outputs": [
    {
     "data": {
      "text/plain": [
       "11"
      ]
     },
     "execution_count": 98,
     "metadata": {},
     "output_type": "execute_result"
    }
   ],
   "source": [
    "#Number of Loan status type in IBRD dataset.\n",
    "ibrd[\"Loan Status\"].nunique()"
   ]
  },
  {
   "cell_type": "code",
   "execution_count": 99,
   "metadata": {},
   "outputs": [
    {
     "data": {
      "text/plain": [
       "0"
      ]
     },
     "execution_count": 99,
     "metadata": {},
     "output_type": "execute_result"
    }
   ],
   "source": [
    "#Number of Loan status type in IBRD dataset.\n",
    "ibrd[\"Currency of Commitment\"].nunique()"
   ]
  },
  {
   "cell_type": "markdown",
   "metadata": {},
   "source": [
    "The IBRD dataset has columns 'Region' and 'Loan status' with categorical values."
   ]
  },
  {
   "cell_type": "markdown",
   "metadata": {},
   "source": [
    "## Descriptive Statistics of each datasets."
   ]
  },
  {
   "cell_type": "code",
   "execution_count": 100,
   "metadata": {},
   "outputs": [
    {
     "data": {
      "text/html": [
       "<div>\n",
       "<style scoped>\n",
       "    .dataframe tbody tr th:only-of-type {\n",
       "        vertical-align: middle;\n",
       "    }\n",
       "\n",
       "    .dataframe tbody tr th {\n",
       "        vertical-align: top;\n",
       "    }\n",
       "\n",
       "    .dataframe thead th {\n",
       "        text-align: right;\n",
       "    }\n",
       "</style>\n",
       "<table border=\"1\" class=\"dataframe\">\n",
       "  <thead>\n",
       "    <tr style=\"text-align: right;\">\n",
       "      <th></th>\n",
       "      <th>Service Charge Rate</th>\n",
       "      <th>Original Principal Amount</th>\n",
       "      <th>Cancelled Amount</th>\n",
       "      <th>Undisbursed Amount</th>\n",
       "      <th>Disbursed Amount</th>\n",
       "      <th>Repaid to IDA</th>\n",
       "      <th>Due to IDA</th>\n",
       "      <th>Exchange Adjustment</th>\n",
       "      <th>Borrower's Obligation</th>\n",
       "      <th>Sold 3rd Party</th>\n",
       "      <th>Repaid 3rd Party</th>\n",
       "      <th>Due 3rd Party</th>\n",
       "      <th>Credits Held</th>\n",
       "    </tr>\n",
       "  </thead>\n",
       "  <tbody>\n",
       "    <tr>\n",
       "      <th>count</th>\n",
       "      <td>7515.000000</td>\n",
       "      <td>9.382000e+03</td>\n",
       "      <td>9.382000e+03</td>\n",
       "      <td>9.382000e+03</td>\n",
       "      <td>9.382000e+03</td>\n",
       "      <td>9.382000e+03</td>\n",
       "      <td>9.382000e+03</td>\n",
       "      <td>9382.0</td>\n",
       "      <td>9.382000e+03</td>\n",
       "      <td>9.382000e+03</td>\n",
       "      <td>9.382000e+03</td>\n",
       "      <td>9382.0</td>\n",
       "      <td>9.382000e+03</td>\n",
       "    </tr>\n",
       "    <tr>\n",
       "      <th>mean</th>\n",
       "      <td>0.885025</td>\n",
       "      <td>4.805455e+07</td>\n",
       "      <td>3.332339e+06</td>\n",
       "      <td>9.746838e+06</td>\n",
       "      <td>3.560052e+07</td>\n",
       "      <td>1.242894e+07</td>\n",
       "      <td>1.922828e+07</td>\n",
       "      <td>0.0</td>\n",
       "      <td>1.922828e+07</td>\n",
       "      <td>1.129998e+04</td>\n",
       "      <td>1.129998e+04</td>\n",
       "      <td>0.0</td>\n",
       "      <td>2.897512e+07</td>\n",
       "    </tr>\n",
       "    <tr>\n",
       "      <th>std</th>\n",
       "      <td>0.473980</td>\n",
       "      <td>7.629267e+07</td>\n",
       "      <td>1.883509e+07</td>\n",
       "      <td>4.308999e+07</td>\n",
       "      <td>5.898633e+07</td>\n",
       "      <td>2.667661e+07</td>\n",
       "      <td>4.866910e+07</td>\n",
       "      <td>0.0</td>\n",
       "      <td>4.866910e+07</td>\n",
       "      <td>2.906599e+05</td>\n",
       "      <td>2.906599e+05</td>\n",
       "      <td>0.0</td>\n",
       "      <td>6.670434e+07</td>\n",
       "    </tr>\n",
       "    <tr>\n",
       "      <th>min</th>\n",
       "      <td>0.000000</td>\n",
       "      <td>0.000000e+00</td>\n",
       "      <td>0.000000e+00</td>\n",
       "      <td>-8.000000e+00</td>\n",
       "      <td>-2.849904e+05</td>\n",
       "      <td>0.000000e+00</td>\n",
       "      <td>-2.820000e+00</td>\n",
       "      <td>0.0</td>\n",
       "      <td>-2.820000e+00</td>\n",
       "      <td>0.000000e+00</td>\n",
       "      <td>0.000000e+00</td>\n",
       "      <td>0.0</td>\n",
       "      <td>-8.000000e+00</td>\n",
       "    </tr>\n",
       "    <tr>\n",
       "      <th>25%</th>\n",
       "      <td>0.750000</td>\n",
       "      <td>9.500000e+06</td>\n",
       "      <td>0.000000e+00</td>\n",
       "      <td>0.000000e+00</td>\n",
       "      <td>5.407810e+06</td>\n",
       "      <td>0.000000e+00</td>\n",
       "      <td>0.000000e+00</td>\n",
       "      <td>0.0</td>\n",
       "      <td>0.000000e+00</td>\n",
       "      <td>0.000000e+00</td>\n",
       "      <td>0.000000e+00</td>\n",
       "      <td>0.0</td>\n",
       "      <td>0.000000e+00</td>\n",
       "    </tr>\n",
       "    <tr>\n",
       "      <th>50%</th>\n",
       "      <td>0.750000</td>\n",
       "      <td>2.159938e+07</td>\n",
       "      <td>1.992350e+02</td>\n",
       "      <td>0.000000e+00</td>\n",
       "      <td>1.535764e+07</td>\n",
       "      <td>2.313461e+06</td>\n",
       "      <td>7.493761e+05</td>\n",
       "      <td>0.0</td>\n",
       "      <td>7.493761e+05</td>\n",
       "      <td>0.000000e+00</td>\n",
       "      <td>0.000000e+00</td>\n",
       "      <td>0.0</td>\n",
       "      <td>3.972419e+06</td>\n",
       "    </tr>\n",
       "    <tr>\n",
       "      <th>75%</th>\n",
       "      <td>0.750000</td>\n",
       "      <td>5.200000e+07</td>\n",
       "      <td>7.465000e+05</td>\n",
       "      <td>0.000000e+00</td>\n",
       "      <td>4.076645e+07</td>\n",
       "      <td>1.262563e+07</td>\n",
       "      <td>1.597392e+07</td>\n",
       "      <td>0.0</td>\n",
       "      <td>1.597392e+07</td>\n",
       "      <td>0.000000e+00</td>\n",
       "      <td>0.000000e+00</td>\n",
       "      <td>0.0</td>\n",
       "      <td>2.657998e+07</td>\n",
       "    </tr>\n",
       "    <tr>\n",
       "      <th>max</th>\n",
       "      <td>4.950000</td>\n",
       "      <td>1.200000e+09</td>\n",
       "      <td>1.200000e+09</td>\n",
       "      <td>8.097593e+08</td>\n",
       "      <td>1.096893e+09</td>\n",
       "      <td>5.617663e+08</td>\n",
       "      <td>7.805552e+08</td>\n",
       "      <td>0.0</td>\n",
       "      <td>7.805552e+08</td>\n",
       "      <td>1.750000e+07</td>\n",
       "      <td>1.750000e+07</td>\n",
       "      <td>0.0</td>\n",
       "      <td>8.157883e+08</td>\n",
       "    </tr>\n",
       "  </tbody>\n",
       "</table>\n",
       "</div>"
      ],
      "text/plain": [
       "       Service Charge Rate  Original Principal Amount  Cancelled Amount  \\\n",
       "count          7515.000000               9.382000e+03      9.382000e+03   \n",
       "mean              0.885025               4.805455e+07      3.332339e+06   \n",
       "std               0.473980               7.629267e+07      1.883509e+07   \n",
       "min               0.000000               0.000000e+00      0.000000e+00   \n",
       "25%               0.750000               9.500000e+06      0.000000e+00   \n",
       "50%               0.750000               2.159938e+07      1.992350e+02   \n",
       "75%               0.750000               5.200000e+07      7.465000e+05   \n",
       "max               4.950000               1.200000e+09      1.200000e+09   \n",
       "\n",
       "       Undisbursed Amount  Disbursed Amount  Repaid to IDA    Due to IDA  \\\n",
       "count        9.382000e+03      9.382000e+03   9.382000e+03  9.382000e+03   \n",
       "mean         9.746838e+06      3.560052e+07   1.242894e+07  1.922828e+07   \n",
       "std          4.308999e+07      5.898633e+07   2.667661e+07  4.866910e+07   \n",
       "min         -8.000000e+00     -2.849904e+05   0.000000e+00 -2.820000e+00   \n",
       "25%          0.000000e+00      5.407810e+06   0.000000e+00  0.000000e+00   \n",
       "50%          0.000000e+00      1.535764e+07   2.313461e+06  7.493761e+05   \n",
       "75%          0.000000e+00      4.076645e+07   1.262563e+07  1.597392e+07   \n",
       "max          8.097593e+08      1.096893e+09   5.617663e+08  7.805552e+08   \n",
       "\n",
       "       Exchange Adjustment  Borrower's Obligation  Sold 3rd Party  \\\n",
       "count               9382.0           9.382000e+03    9.382000e+03   \n",
       "mean                   0.0           1.922828e+07    1.129998e+04   \n",
       "std                    0.0           4.866910e+07    2.906599e+05   \n",
       "min                    0.0          -2.820000e+00    0.000000e+00   \n",
       "25%                    0.0           0.000000e+00    0.000000e+00   \n",
       "50%                    0.0           7.493761e+05    0.000000e+00   \n",
       "75%                    0.0           1.597392e+07    0.000000e+00   \n",
       "max                    0.0           7.805552e+08    1.750000e+07   \n",
       "\n",
       "       Repaid 3rd Party  Due 3rd Party  Credits Held  \n",
       "count      9.382000e+03         9382.0  9.382000e+03  \n",
       "mean       1.129998e+04            0.0  2.897512e+07  \n",
       "std        2.906599e+05            0.0  6.670434e+07  \n",
       "min        0.000000e+00            0.0 -8.000000e+00  \n",
       "25%        0.000000e+00            0.0  0.000000e+00  \n",
       "50%        0.000000e+00            0.0  3.972419e+06  \n",
       "75%        0.000000e+00            0.0  2.657998e+07  \n",
       "max        1.750000e+07            0.0  8.157883e+08  "
      ]
     },
     "execution_count": 100,
     "metadata": {},
     "output_type": "execute_result"
    }
   ],
   "source": [
    "#Descripitive statistics of IDA dataset.\n",
    "ida.describe()"
   ]
  },
  {
   "cell_type": "code",
   "execution_count": 101,
   "metadata": {},
   "outputs": [
    {
     "data": {
      "text/html": [
       "<div>\n",
       "<style scoped>\n",
       "    .dataframe tbody tr th:only-of-type {\n",
       "        vertical-align: middle;\n",
       "    }\n",
       "\n",
       "    .dataframe tbody tr th {\n",
       "        vertical-align: top;\n",
       "    }\n",
       "\n",
       "    .dataframe thead th {\n",
       "        text-align: right;\n",
       "    }\n",
       "</style>\n",
       "<table border=\"1\" class=\"dataframe\">\n",
       "  <thead>\n",
       "    <tr style=\"text-align: right;\">\n",
       "      <th></th>\n",
       "      <th>Interest Rate</th>\n",
       "      <th>Currency of Commitment</th>\n",
       "      <th>Original Principal Amount</th>\n",
       "      <th>Cancelled Amount</th>\n",
       "      <th>Undisbursed Amount</th>\n",
       "      <th>Disbursed Amount</th>\n",
       "      <th>Repaid to IBRD</th>\n",
       "      <th>Due to IBRD</th>\n",
       "      <th>Exchange Adjustment</th>\n",
       "      <th>Borrower's Obligation</th>\n",
       "      <th>Sold 3rd Party</th>\n",
       "      <th>Repaid 3rd Party</th>\n",
       "      <th>Due 3rd Party</th>\n",
       "      <th>Loans Held</th>\n",
       "    </tr>\n",
       "  </thead>\n",
       "  <tbody>\n",
       "    <tr>\n",
       "      <th>count</th>\n",
       "      <td>8935.000000</td>\n",
       "      <td>0.0</td>\n",
       "      <td>9.057000e+03</td>\n",
       "      <td>9.057000e+03</td>\n",
       "      <td>9.057000e+03</td>\n",
       "      <td>9.057000e+03</td>\n",
       "      <td>9.057000e+03</td>\n",
       "      <td>9.057000e+03</td>\n",
       "      <td>9.057000e+03</td>\n",
       "      <td>9.057000e+03</td>\n",
       "      <td>9.057000e+03</td>\n",
       "      <td>9.057000e+03</td>\n",
       "      <td>9057.0</td>\n",
       "      <td>9.057000e+03</td>\n",
       "    </tr>\n",
       "    <tr>\n",
       "      <th>mean</th>\n",
       "      <td>4.278295</td>\n",
       "      <td>NaN</td>\n",
       "      <td>8.815022e+07</td>\n",
       "      <td>1.133171e+07</td>\n",
       "      <td>8.094903e+06</td>\n",
       "      <td>6.795474e+07</td>\n",
       "      <td>4.337839e+07</td>\n",
       "      <td>2.427380e+07</td>\n",
       "      <td>-7.029834e+04</td>\n",
       "      <td>2.420350e+07</td>\n",
       "      <td>4.058693e+05</td>\n",
       "      <td>4.058693e+05</td>\n",
       "      <td>0.0</td>\n",
       "      <td>3.236870e+07</td>\n",
       "    </tr>\n",
       "    <tr>\n",
       "      <th>std</th>\n",
       "      <td>3.497880</td>\n",
       "      <td>NaN</td>\n",
       "      <td>1.588565e+08</td>\n",
       "      <td>4.960866e+07</td>\n",
       "      <td>4.529296e+07</td>\n",
       "      <td>1.418672e+08</td>\n",
       "      <td>9.275481e+07</td>\n",
       "      <td>1.049531e+08</td>\n",
       "      <td>1.000140e+07</td>\n",
       "      <td>1.024955e+08</td>\n",
       "      <td>3.699110e+06</td>\n",
       "      <td>3.699110e+06</td>\n",
       "      <td>0.0</td>\n",
       "      <td>1.172925e+08</td>\n",
       "    </tr>\n",
       "    <tr>\n",
       "      <th>min</th>\n",
       "      <td>0.000000</td>\n",
       "      <td>NaN</td>\n",
       "      <td>0.000000e+00</td>\n",
       "      <td>0.000000e+00</td>\n",
       "      <td>-1.000000e-02</td>\n",
       "      <td>0.000000e+00</td>\n",
       "      <td>0.000000e+00</td>\n",
       "      <td>-1.483090e+08</td>\n",
       "      <td>-4.787361e+08</td>\n",
       "      <td>-4.000000e-02</td>\n",
       "      <td>0.000000e+00</td>\n",
       "      <td>0.000000e+00</td>\n",
       "      <td>0.0</td>\n",
       "      <td>-1.483090e+08</td>\n",
       "    </tr>\n",
       "    <tr>\n",
       "      <th>25%</th>\n",
       "      <td>0.000000</td>\n",
       "      <td>NaN</td>\n",
       "      <td>1.230000e+07</td>\n",
       "      <td>0.000000e+00</td>\n",
       "      <td>0.000000e+00</td>\n",
       "      <td>6.151564e+06</td>\n",
       "      <td>2.633100e+06</td>\n",
       "      <td>0.000000e+00</td>\n",
       "      <td>0.000000e+00</td>\n",
       "      <td>0.000000e+00</td>\n",
       "      <td>0.000000e+00</td>\n",
       "      <td>0.000000e+00</td>\n",
       "      <td>0.0</td>\n",
       "      <td>0.000000e+00</td>\n",
       "    </tr>\n",
       "    <tr>\n",
       "      <th>50%</th>\n",
       "      <td>5.110000</td>\n",
       "      <td>NaN</td>\n",
       "      <td>3.500000e+07</td>\n",
       "      <td>1.580000e+00</td>\n",
       "      <td>0.000000e+00</td>\n",
       "      <td>2.325000e+07</td>\n",
       "      <td>1.480000e+07</td>\n",
       "      <td>0.000000e+00</td>\n",
       "      <td>0.000000e+00</td>\n",
       "      <td>0.000000e+00</td>\n",
       "      <td>0.000000e+00</td>\n",
       "      <td>0.000000e+00</td>\n",
       "      <td>0.0</td>\n",
       "      <td>0.000000e+00</td>\n",
       "    </tr>\n",
       "    <tr>\n",
       "      <th>75%</th>\n",
       "      <td>7.250000</td>\n",
       "      <td>NaN</td>\n",
       "      <td>1.000000e+08</td>\n",
       "      <td>4.028332e+06</td>\n",
       "      <td>0.000000e+00</td>\n",
       "      <td>7.000000e+07</td>\n",
       "      <td>4.527877e+07</td>\n",
       "      <td>0.000000e+00</td>\n",
       "      <td>0.000000e+00</td>\n",
       "      <td>0.000000e+00</td>\n",
       "      <td>0.000000e+00</td>\n",
       "      <td>0.000000e+00</td>\n",
       "      <td>0.0</td>\n",
       "      <td>0.000000e+00</td>\n",
       "    </tr>\n",
       "    <tr>\n",
       "      <th>max</th>\n",
       "      <td>16.790000</td>\n",
       "      <td>NaN</td>\n",
       "      <td>3.750000e+09</td>\n",
       "      <td>1.995000e+09</td>\n",
       "      <td>1.000000e+09</td>\n",
       "      <td>3.134336e+09</td>\n",
       "      <td>3.000000e+09</td>\n",
       "      <td>2.627736e+09</td>\n",
       "      <td>3.025189e+08</td>\n",
       "      <td>2.149000e+09</td>\n",
       "      <td>2.499620e+08</td>\n",
       "      <td>2.499620e+08</td>\n",
       "      <td>0.0</td>\n",
       "      <td>2.916572e+09</td>\n",
       "    </tr>\n",
       "  </tbody>\n",
       "</table>\n",
       "</div>"
      ],
      "text/plain": [
       "       Interest Rate  Currency of Commitment  Original Principal Amount  \\\n",
       "count    8935.000000                     0.0               9.057000e+03   \n",
       "mean        4.278295                     NaN               8.815022e+07   \n",
       "std         3.497880                     NaN               1.588565e+08   \n",
       "min         0.000000                     NaN               0.000000e+00   \n",
       "25%         0.000000                     NaN               1.230000e+07   \n",
       "50%         5.110000                     NaN               3.500000e+07   \n",
       "75%         7.250000                     NaN               1.000000e+08   \n",
       "max        16.790000                     NaN               3.750000e+09   \n",
       "\n",
       "       Cancelled Amount  Undisbursed Amount  Disbursed Amount  Repaid to IBRD  \\\n",
       "count      9.057000e+03        9.057000e+03      9.057000e+03    9.057000e+03   \n",
       "mean       1.133171e+07        8.094903e+06      6.795474e+07    4.337839e+07   \n",
       "std        4.960866e+07        4.529296e+07      1.418672e+08    9.275481e+07   \n",
       "min        0.000000e+00       -1.000000e-02      0.000000e+00    0.000000e+00   \n",
       "25%        0.000000e+00        0.000000e+00      6.151564e+06    2.633100e+06   \n",
       "50%        1.580000e+00        0.000000e+00      2.325000e+07    1.480000e+07   \n",
       "75%        4.028332e+06        0.000000e+00      7.000000e+07    4.527877e+07   \n",
       "max        1.995000e+09        1.000000e+09      3.134336e+09    3.000000e+09   \n",
       "\n",
       "        Due to IBRD  Exchange Adjustment  Borrower's Obligation  \\\n",
       "count  9.057000e+03         9.057000e+03           9.057000e+03   \n",
       "mean   2.427380e+07        -7.029834e+04           2.420350e+07   \n",
       "std    1.049531e+08         1.000140e+07           1.024955e+08   \n",
       "min   -1.483090e+08        -4.787361e+08          -4.000000e-02   \n",
       "25%    0.000000e+00         0.000000e+00           0.000000e+00   \n",
       "50%    0.000000e+00         0.000000e+00           0.000000e+00   \n",
       "75%    0.000000e+00         0.000000e+00           0.000000e+00   \n",
       "max    2.627736e+09         3.025189e+08           2.149000e+09   \n",
       "\n",
       "       Sold 3rd Party  Repaid 3rd Party  Due 3rd Party    Loans Held  \n",
       "count    9.057000e+03      9.057000e+03         9057.0  9.057000e+03  \n",
       "mean     4.058693e+05      4.058693e+05            0.0  3.236870e+07  \n",
       "std      3.699110e+06      3.699110e+06            0.0  1.172925e+08  \n",
       "min      0.000000e+00      0.000000e+00            0.0 -1.483090e+08  \n",
       "25%      0.000000e+00      0.000000e+00            0.0  0.000000e+00  \n",
       "50%      0.000000e+00      0.000000e+00            0.0  0.000000e+00  \n",
       "75%      0.000000e+00      0.000000e+00            0.0  0.000000e+00  \n",
       "max      2.499620e+08      2.499620e+08            0.0  2.916572e+09  "
      ]
     },
     "execution_count": 101,
     "metadata": {},
     "output_type": "execute_result"
    }
   ],
   "source": [
    "#Descripitive statistics of IBRD dataset.\n",
    "ibrd.describe()"
   ]
  },
  {
   "cell_type": "markdown",
   "metadata": {},
   "source": [
    "## Regions which received funds from IDA and IBRD."
   ]
  },
  {
   "cell_type": "code",
   "execution_count": 102,
   "metadata": {},
   "outputs": [
    {
     "data": {
      "text/plain": [
       "array(['LATIN AMERICA AND CARIBBEAN', 'AFRICA EAST', 'SOUTH ASIA',\n",
       "       'EAST ASIA AND PACIFIC', 'MIDDLE EAST AND NORTH AFRICA',\n",
       "       'EUROPE AND CENTRAL ASIA', 'AFRICA WEST', 'OTHER'], dtype=object)"
      ]
     },
     "execution_count": 102,
     "metadata": {},
     "output_type": "execute_result"
    }
   ],
   "source": [
    "#unique Regions from IDA dataset\n",
    "ida.Region.unique()"
   ]
  },
  {
   "cell_type": "code",
   "execution_count": 103,
   "metadata": {},
   "outputs": [
    {
     "data": {
      "text/plain": [
       "array(['EUROPE AND CENTRAL ASIA', 'LATIN AMERICA AND CARIBBEAN',\n",
       "       'SOUTH ASIA', 'MIDDLE EAST AND NORTH AFRICA',\n",
       "       'EAST ASIA AND PACIFIC', 'AFRICA EAST', 'AFRICA WEST', 'OTHER'],\n",
       "      dtype=object)"
      ]
     },
     "execution_count": 103,
     "metadata": {},
     "output_type": "execute_result"
    }
   ],
   "source": [
    "#unique Regions from IBRD dataset\n",
    "ibrd.Region.unique()"
   ]
  },
  {
   "cell_type": "markdown",
   "metadata": {},
   "source": [
    "## null values from each dataset."
   ]
  },
  {
   "cell_type": "code",
   "execution_count": 104,
   "metadata": {},
   "outputs": [
    {
     "data": {
      "text/plain": [
       "End of Period                      0\n",
       "Credit Number                      0\n",
       "Region                             0\n",
       "Country Code                       0\n",
       "Country                            0\n",
       "Borrower                           0\n",
       "Credit Status                      0\n",
       "Service Charge Rate             1867\n",
       "Currency of Commitment             0\n",
       "Project ID                         0\n",
       "Project Name                       1\n",
       "Original Principal Amount          0\n",
       "Cancelled Amount                   0\n",
       "Undisbursed Amount                 0\n",
       "Disbursed Amount                   0\n",
       "Repaid to IDA                      0\n",
       "Due to IDA                         0\n",
       "Exchange Adjustment                0\n",
       "Borrower's Obligation              0\n",
       "Sold 3rd Party                     0\n",
       "Repaid 3rd Party                   0\n",
       "Due 3rd Party                      0\n",
       "Credits Held                       0\n",
       "First Repayment Date            1805\n",
       "Last Repayment Date             1805\n",
       "Agreement Signing Date           137\n",
       "Board Approval Date                7\n",
       "Effective Date (Most Recent)      99\n",
       "Closed Date (Most Recent)          9\n",
       "Last Disbursement Date          1902\n",
       "dtype: int64"
      ]
     },
     "execution_count": 104,
     "metadata": {},
     "output_type": "execute_result"
    }
   ],
   "source": [
    "#number of null values in each column of IDA dataset.\n",
    "ida.isnull().sum()"
   ]
  },
  {
   "cell_type": "code",
   "execution_count": 105,
   "metadata": {},
   "outputs": [
    {
     "data": {
      "text/plain": [
       "End of Period                    0.000000\n",
       "Credit Number                    0.000000\n",
       "Region                           0.000000\n",
       "Country Code                     0.000000\n",
       "Country                          0.000000\n",
       "Borrower                         0.000000\n",
       "Credit Status                    0.000000\n",
       "Service Charge Rate             19.899808\n",
       "Currency of Commitment           0.000000\n",
       "Project ID                       0.000000\n",
       "Project Name                     0.010659\n",
       "Original Principal Amount        0.000000\n",
       "Cancelled Amount                 0.000000\n",
       "Undisbursed Amount               0.000000\n",
       "Disbursed Amount                 0.000000\n",
       "Repaid to IDA                    0.000000\n",
       "Due to IDA                       0.000000\n",
       "Exchange Adjustment              0.000000\n",
       "Borrower's Obligation            0.000000\n",
       "Sold 3rd Party                   0.000000\n",
       "Repaid 3rd Party                 0.000000\n",
       "Due 3rd Party                    0.000000\n",
       "Credits Held                     0.000000\n",
       "First Repayment Date            19.238968\n",
       "Last Repayment Date             19.238968\n",
       "Agreement Signing Date           1.460243\n",
       "Board Approval Date              0.074611\n",
       "Effective Date (Most Recent)     1.055212\n",
       "Closed Date (Most Recent)        0.095928\n",
       "Last Disbursement Date          20.272863\n",
       "dtype: float64"
      ]
     },
     "execution_count": 105,
     "metadata": {},
     "output_type": "execute_result"
    }
   ],
   "source": [
    "#Percentage of null values in each column of IDA dataset.\n",
    "\n",
    "(ida.isnull().sum()/ida.shape[0])*100"
   ]
  },
  {
   "cell_type": "code",
   "execution_count": 106,
   "metadata": {},
   "outputs": [
    {
     "data": {
      "text/plain": [
       "End of Period                      0\n",
       "Loan Number                        0\n",
       "Region                             0\n",
       "Country Code                       2\n",
       "Country                            0\n",
       "Borrower                          57\n",
       "Guarantor Country Code           282\n",
       "Guarantor                        280\n",
       "Loan Type                          0\n",
       "Loan Status                        0\n",
       "Interest Rate                    122\n",
       "Currency of Commitment          9057\n",
       "Project ID                       326\n",
       "Project Name                     326\n",
       "Original Principal Amount          0\n",
       "Cancelled Amount                   0\n",
       "Undisbursed Amount                 0\n",
       "Disbursed Amount                   0\n",
       "Repaid to IBRD                     0\n",
       "Due to IBRD                        0\n",
       "Exchange Adjustment                0\n",
       "Borrower's Obligation              0\n",
       "Sold 3rd Party                     0\n",
       "Repaid 3rd Party                   0\n",
       "Due 3rd Party                      0\n",
       "Loans Held                         0\n",
       "First Repayment Date              64\n",
       "Last Repayment Date               63\n",
       "Agreement Signing Date           144\n",
       "Board Approval Date                0\n",
       "Effective Date (Most Recent)      89\n",
       "Closed Date (Most Recent)          8\n",
       "Last Disbursement Date          3828\n",
       "dtype: int64"
      ]
     },
     "execution_count": 106,
     "metadata": {},
     "output_type": "execute_result"
    }
   ],
   "source": [
    "#number of null values in each column of IBRD dataset.\n",
    "ibrd.isnull().sum()"
   ]
  },
  {
   "cell_type": "markdown",
   "metadata": {},
   "source": [
    "The column \"currency of commitment\" of IBRD dataset has no values at all."
   ]
  },
  {
   "cell_type": "code",
   "execution_count": 107,
   "metadata": {},
   "outputs": [
    {
     "data": {
      "text/plain": [
       "End of Period                     0.000000\n",
       "Loan Number                       0.000000\n",
       "Region                            0.000000\n",
       "Country Code                      0.022082\n",
       "Country                           0.000000\n",
       "Borrower                          0.629347\n",
       "Guarantor Country Code            3.113614\n",
       "Guarantor                         3.091531\n",
       "Loan Type                         0.000000\n",
       "Loan Status                       0.000000\n",
       "Interest Rate                     1.347024\n",
       "Currency of Commitment          100.000000\n",
       "Project ID                        3.599426\n",
       "Project Name                      3.599426\n",
       "Original Principal Amount         0.000000\n",
       "Cancelled Amount                  0.000000\n",
       "Undisbursed Amount                0.000000\n",
       "Disbursed Amount                  0.000000\n",
       "Repaid to IBRD                    0.000000\n",
       "Due to IBRD                       0.000000\n",
       "Exchange Adjustment               0.000000\n",
       "Borrower's Obligation             0.000000\n",
       "Sold 3rd Party                    0.000000\n",
       "Repaid 3rd Party                  0.000000\n",
       "Due 3rd Party                     0.000000\n",
       "Loans Held                        0.000000\n",
       "First Repayment Date              0.706636\n",
       "Last Repayment Date               0.695595\n",
       "Agreement Signing Date            1.589930\n",
       "Board Approval Date               0.000000\n",
       "Effective Date (Most Recent)      0.982665\n",
       "Closed Date (Most Recent)         0.088329\n",
       "Last Disbursement Date           42.265651\n",
       "dtype: float64"
      ]
     },
     "execution_count": 107,
     "metadata": {},
     "output_type": "execute_result"
    }
   ],
   "source": [
    "#Percentage of null values in each column of IBRD dataset.\n",
    "\n",
    "(ibrd.isnull().sum()/ibrd.shape[0])*100"
   ]
  },
  {
   "cell_type": "code",
   "execution_count": null,
   "metadata": {},
   "outputs": [],
   "source": []
  },
  {
   "cell_type": "markdown",
   "metadata": {},
   "source": [
    "## Correlation matrix of IDA and IBRD datasets."
   ]
  },
  {
   "cell_type": "code",
   "execution_count": 108,
   "metadata": {},
   "outputs": [
    {
     "data": {
      "text/html": [
       "<div>\n",
       "<style scoped>\n",
       "    .dataframe tbody tr th:only-of-type {\n",
       "        vertical-align: middle;\n",
       "    }\n",
       "\n",
       "    .dataframe tbody tr th {\n",
       "        vertical-align: top;\n",
       "    }\n",
       "\n",
       "    .dataframe thead th {\n",
       "        text-align: right;\n",
       "    }\n",
       "</style>\n",
       "<table border=\"1\" class=\"dataframe\">\n",
       "  <thead>\n",
       "    <tr style=\"text-align: right;\">\n",
       "      <th></th>\n",
       "      <th>Service Charge Rate</th>\n",
       "      <th>Original Principal Amount</th>\n",
       "      <th>Cancelled Amount</th>\n",
       "      <th>Undisbursed Amount</th>\n",
       "      <th>Disbursed Amount</th>\n",
       "      <th>Repaid to IDA</th>\n",
       "      <th>Due to IDA</th>\n",
       "      <th>Exchange Adjustment</th>\n",
       "      <th>Borrower's Obligation</th>\n",
       "      <th>Sold 3rd Party</th>\n",
       "      <th>Repaid 3rd Party</th>\n",
       "      <th>Due 3rd Party</th>\n",
       "      <th>Credits Held</th>\n",
       "    </tr>\n",
       "  </thead>\n",
       "  <tbody>\n",
       "    <tr>\n",
       "      <th>Service Charge Rate</th>\n",
       "      <td>1.000000</td>\n",
       "      <td>0.162207</td>\n",
       "      <td>0.020787</td>\n",
       "      <td>0.193704</td>\n",
       "      <td>0.069936</td>\n",
       "      <td>-0.111671</td>\n",
       "      <td>0.139774</td>\n",
       "      <td>NaN</td>\n",
       "      <td>0.139774</td>\n",
       "      <td>-0.012378</td>\n",
       "      <td>-0.012378</td>\n",
       "      <td>NaN</td>\n",
       "      <td>0.218620</td>\n",
       "    </tr>\n",
       "    <tr>\n",
       "      <th>Original Principal Amount</th>\n",
       "      <td>0.162207</td>\n",
       "      <td>1.000000</td>\n",
       "      <td>0.313063</td>\n",
       "      <td>0.528753</td>\n",
       "      <td>0.800157</td>\n",
       "      <td>0.293785</td>\n",
       "      <td>0.706608</td>\n",
       "      <td>NaN</td>\n",
       "      <td>0.706608</td>\n",
       "      <td>-0.011014</td>\n",
       "      <td>-0.011014</td>\n",
       "      <td>NaN</td>\n",
       "      <td>0.857125</td>\n",
       "    </tr>\n",
       "    <tr>\n",
       "      <th>Cancelled Amount</th>\n",
       "      <td>0.020787</td>\n",
       "      <td>0.313063</td>\n",
       "      <td>1.000000</td>\n",
       "      <td>-0.011242</td>\n",
       "      <td>0.096412</td>\n",
       "      <td>0.048385</td>\n",
       "      <td>0.091257</td>\n",
       "      <td>NaN</td>\n",
       "      <td>0.091257</td>\n",
       "      <td>-0.005501</td>\n",
       "      <td>-0.005501</td>\n",
       "      <td>NaN</td>\n",
       "      <td>0.059321</td>\n",
       "    </tr>\n",
       "    <tr>\n",
       "      <th>Undisbursed Amount</th>\n",
       "      <td>0.193704</td>\n",
       "      <td>0.528753</td>\n",
       "      <td>-0.011242</td>\n",
       "      <td>1.000000</td>\n",
       "      <td>-0.006932</td>\n",
       "      <td>-0.102539</td>\n",
       "      <td>0.053415</td>\n",
       "      <td>NaN</td>\n",
       "      <td>0.053415</td>\n",
       "      <td>-0.008795</td>\n",
       "      <td>-0.008795</td>\n",
       "      <td>NaN</td>\n",
       "      <td>0.684958</td>\n",
       "    </tr>\n",
       "    <tr>\n",
       "      <th>Disbursed Amount</th>\n",
       "      <td>0.069936</td>\n",
       "      <td>0.800157</td>\n",
       "      <td>0.096412</td>\n",
       "      <td>-0.006932</td>\n",
       "      <td>1.000000</td>\n",
       "      <td>0.448691</td>\n",
       "      <td>0.829984</td>\n",
       "      <td>NaN</td>\n",
       "      <td>0.829984</td>\n",
       "      <td>-0.006302</td>\n",
       "      <td>-0.006302</td>\n",
       "      <td>NaN</td>\n",
       "      <td>0.601098</td>\n",
       "    </tr>\n",
       "    <tr>\n",
       "      <th>Repaid to IDA</th>\n",
       "      <td>-0.111671</td>\n",
       "      <td>0.293785</td>\n",
       "      <td>0.048385</td>\n",
       "      <td>-0.102539</td>\n",
       "      <td>0.448691</td>\n",
       "      <td>1.000000</td>\n",
       "      <td>0.081095</td>\n",
       "      <td>NaN</td>\n",
       "      <td>0.081095</td>\n",
       "      <td>0.007973</td>\n",
       "      <td>0.007973</td>\n",
       "      <td>NaN</td>\n",
       "      <td>-0.007070</td>\n",
       "    </tr>\n",
       "    <tr>\n",
       "      <th>Due to IDA</th>\n",
       "      <td>0.139774</td>\n",
       "      <td>0.706608</td>\n",
       "      <td>0.091257</td>\n",
       "      <td>0.053415</td>\n",
       "      <td>0.829984</td>\n",
       "      <td>0.081095</td>\n",
       "      <td>1.000000</td>\n",
       "      <td>NaN</td>\n",
       "      <td>1.000000</td>\n",
       "      <td>-0.014061</td>\n",
       "      <td>-0.014061</td>\n",
       "      <td>NaN</td>\n",
       "      <td>0.764130</td>\n",
       "    </tr>\n",
       "    <tr>\n",
       "      <th>Exchange Adjustment</th>\n",
       "      <td>NaN</td>\n",
       "      <td>NaN</td>\n",
       "      <td>NaN</td>\n",
       "      <td>NaN</td>\n",
       "      <td>NaN</td>\n",
       "      <td>NaN</td>\n",
       "      <td>NaN</td>\n",
       "      <td>NaN</td>\n",
       "      <td>NaN</td>\n",
       "      <td>NaN</td>\n",
       "      <td>NaN</td>\n",
       "      <td>NaN</td>\n",
       "      <td>NaN</td>\n",
       "    </tr>\n",
       "    <tr>\n",
       "      <th>Borrower's Obligation</th>\n",
       "      <td>0.139774</td>\n",
       "      <td>0.706608</td>\n",
       "      <td>0.091257</td>\n",
       "      <td>0.053415</td>\n",
       "      <td>0.829984</td>\n",
       "      <td>0.081095</td>\n",
       "      <td>1.000000</td>\n",
       "      <td>NaN</td>\n",
       "      <td>1.000000</td>\n",
       "      <td>-0.014061</td>\n",
       "      <td>-0.014061</td>\n",
       "      <td>NaN</td>\n",
       "      <td>0.764130</td>\n",
       "    </tr>\n",
       "    <tr>\n",
       "      <th>Sold 3rd Party</th>\n",
       "      <td>-0.012378</td>\n",
       "      <td>-0.011014</td>\n",
       "      <td>-0.005501</td>\n",
       "      <td>-0.008795</td>\n",
       "      <td>-0.006302</td>\n",
       "      <td>0.007973</td>\n",
       "      <td>-0.014061</td>\n",
       "      <td>NaN</td>\n",
       "      <td>-0.014061</td>\n",
       "      <td>1.000000</td>\n",
       "      <td>1.000000</td>\n",
       "      <td>NaN</td>\n",
       "      <td>-0.015941</td>\n",
       "    </tr>\n",
       "    <tr>\n",
       "      <th>Repaid 3rd Party</th>\n",
       "      <td>-0.012378</td>\n",
       "      <td>-0.011014</td>\n",
       "      <td>-0.005501</td>\n",
       "      <td>-0.008795</td>\n",
       "      <td>-0.006302</td>\n",
       "      <td>0.007973</td>\n",
       "      <td>-0.014061</td>\n",
       "      <td>NaN</td>\n",
       "      <td>-0.014061</td>\n",
       "      <td>1.000000</td>\n",
       "      <td>1.000000</td>\n",
       "      <td>NaN</td>\n",
       "      <td>-0.015941</td>\n",
       "    </tr>\n",
       "    <tr>\n",
       "      <th>Due 3rd Party</th>\n",
       "      <td>NaN</td>\n",
       "      <td>NaN</td>\n",
       "      <td>NaN</td>\n",
       "      <td>NaN</td>\n",
       "      <td>NaN</td>\n",
       "      <td>NaN</td>\n",
       "      <td>NaN</td>\n",
       "      <td>NaN</td>\n",
       "      <td>NaN</td>\n",
       "      <td>NaN</td>\n",
       "      <td>NaN</td>\n",
       "      <td>NaN</td>\n",
       "      <td>NaN</td>\n",
       "    </tr>\n",
       "    <tr>\n",
       "      <th>Credits Held</th>\n",
       "      <td>0.218620</td>\n",
       "      <td>0.857125</td>\n",
       "      <td>0.059321</td>\n",
       "      <td>0.684958</td>\n",
       "      <td>0.601098</td>\n",
       "      <td>-0.007070</td>\n",
       "      <td>0.764130</td>\n",
       "      <td>NaN</td>\n",
       "      <td>0.764130</td>\n",
       "      <td>-0.015941</td>\n",
       "      <td>-0.015941</td>\n",
       "      <td>NaN</td>\n",
       "      <td>1.000000</td>\n",
       "    </tr>\n",
       "  </tbody>\n",
       "</table>\n",
       "</div>"
      ],
      "text/plain": [
       "                           Service Charge Rate  Original Principal Amount  \\\n",
       "Service Charge Rate                   1.000000                   0.162207   \n",
       "Original Principal Amount             0.162207                   1.000000   \n",
       "Cancelled Amount                      0.020787                   0.313063   \n",
       "Undisbursed Amount                    0.193704                   0.528753   \n",
       "Disbursed Amount                      0.069936                   0.800157   \n",
       "Repaid to IDA                        -0.111671                   0.293785   \n",
       "Due to IDA                            0.139774                   0.706608   \n",
       "Exchange Adjustment                        NaN                        NaN   \n",
       "Borrower's Obligation                 0.139774                   0.706608   \n",
       "Sold 3rd Party                       -0.012378                  -0.011014   \n",
       "Repaid 3rd Party                     -0.012378                  -0.011014   \n",
       "Due 3rd Party                              NaN                        NaN   \n",
       "Credits Held                          0.218620                   0.857125   \n",
       "\n",
       "                           Cancelled Amount  Undisbursed Amount  \\\n",
       "Service Charge Rate                0.020787            0.193704   \n",
       "Original Principal Amount          0.313063            0.528753   \n",
       "Cancelled Amount                   1.000000           -0.011242   \n",
       "Undisbursed Amount                -0.011242            1.000000   \n",
       "Disbursed Amount                   0.096412           -0.006932   \n",
       "Repaid to IDA                      0.048385           -0.102539   \n",
       "Due to IDA                         0.091257            0.053415   \n",
       "Exchange Adjustment                     NaN                 NaN   \n",
       "Borrower's Obligation              0.091257            0.053415   \n",
       "Sold 3rd Party                    -0.005501           -0.008795   \n",
       "Repaid 3rd Party                  -0.005501           -0.008795   \n",
       "Due 3rd Party                           NaN                 NaN   \n",
       "Credits Held                       0.059321            0.684958   \n",
       "\n",
       "                           Disbursed Amount  Repaid to IDA  Due to IDA  \\\n",
       "Service Charge Rate                0.069936      -0.111671    0.139774   \n",
       "Original Principal Amount          0.800157       0.293785    0.706608   \n",
       "Cancelled Amount                   0.096412       0.048385    0.091257   \n",
       "Undisbursed Amount                -0.006932      -0.102539    0.053415   \n",
       "Disbursed Amount                   1.000000       0.448691    0.829984   \n",
       "Repaid to IDA                      0.448691       1.000000    0.081095   \n",
       "Due to IDA                         0.829984       0.081095    1.000000   \n",
       "Exchange Adjustment                     NaN            NaN         NaN   \n",
       "Borrower's Obligation              0.829984       0.081095    1.000000   \n",
       "Sold 3rd Party                    -0.006302       0.007973   -0.014061   \n",
       "Repaid 3rd Party                  -0.006302       0.007973   -0.014061   \n",
       "Due 3rd Party                           NaN            NaN         NaN   \n",
       "Credits Held                       0.601098      -0.007070    0.764130   \n",
       "\n",
       "                           Exchange Adjustment  Borrower's Obligation  \\\n",
       "Service Charge Rate                        NaN               0.139774   \n",
       "Original Principal Amount                  NaN               0.706608   \n",
       "Cancelled Amount                           NaN               0.091257   \n",
       "Undisbursed Amount                         NaN               0.053415   \n",
       "Disbursed Amount                           NaN               0.829984   \n",
       "Repaid to IDA                              NaN               0.081095   \n",
       "Due to IDA                                 NaN               1.000000   \n",
       "Exchange Adjustment                        NaN                    NaN   \n",
       "Borrower's Obligation                      NaN               1.000000   \n",
       "Sold 3rd Party                             NaN              -0.014061   \n",
       "Repaid 3rd Party                           NaN              -0.014061   \n",
       "Due 3rd Party                              NaN                    NaN   \n",
       "Credits Held                               NaN               0.764130   \n",
       "\n",
       "                           Sold 3rd Party  Repaid 3rd Party  Due 3rd Party  \\\n",
       "Service Charge Rate             -0.012378         -0.012378            NaN   \n",
       "Original Principal Amount       -0.011014         -0.011014            NaN   \n",
       "Cancelled Amount                -0.005501         -0.005501            NaN   \n",
       "Undisbursed Amount              -0.008795         -0.008795            NaN   \n",
       "Disbursed Amount                -0.006302         -0.006302            NaN   \n",
       "Repaid to IDA                    0.007973          0.007973            NaN   \n",
       "Due to IDA                      -0.014061         -0.014061            NaN   \n",
       "Exchange Adjustment                   NaN               NaN            NaN   \n",
       "Borrower's Obligation           -0.014061         -0.014061            NaN   \n",
       "Sold 3rd Party                   1.000000          1.000000            NaN   \n",
       "Repaid 3rd Party                 1.000000          1.000000            NaN   \n",
       "Due 3rd Party                         NaN               NaN            NaN   \n",
       "Credits Held                    -0.015941         -0.015941            NaN   \n",
       "\n",
       "                           Credits Held  \n",
       "Service Charge Rate            0.218620  \n",
       "Original Principal Amount      0.857125  \n",
       "Cancelled Amount               0.059321  \n",
       "Undisbursed Amount             0.684958  \n",
       "Disbursed Amount               0.601098  \n",
       "Repaid to IDA                 -0.007070  \n",
       "Due to IDA                     0.764130  \n",
       "Exchange Adjustment                 NaN  \n",
       "Borrower's Obligation          0.764130  \n",
       "Sold 3rd Party                -0.015941  \n",
       "Repaid 3rd Party              -0.015941  \n",
       "Due 3rd Party                       NaN  \n",
       "Credits Held                   1.000000  "
      ]
     },
     "execution_count": 108,
     "metadata": {},
     "output_type": "execute_result"
    }
   ],
   "source": [
    "#Correlation matrix of IDA dataset.\n",
    "ida.corr()"
   ]
  },
  {
   "cell_type": "code",
   "execution_count": 109,
   "metadata": {},
   "outputs": [
    {
     "data": {
      "text/html": [
       "<div>\n",
       "<style scoped>\n",
       "    .dataframe tbody tr th:only-of-type {\n",
       "        vertical-align: middle;\n",
       "    }\n",
       "\n",
       "    .dataframe tbody tr th {\n",
       "        vertical-align: top;\n",
       "    }\n",
       "\n",
       "    .dataframe thead th {\n",
       "        text-align: right;\n",
       "    }\n",
       "</style>\n",
       "<table border=\"1\" class=\"dataframe\">\n",
       "  <thead>\n",
       "    <tr style=\"text-align: right;\">\n",
       "      <th></th>\n",
       "      <th>Interest Rate</th>\n",
       "      <th>Currency of Commitment</th>\n",
       "      <th>Original Principal Amount</th>\n",
       "      <th>Cancelled Amount</th>\n",
       "      <th>Undisbursed Amount</th>\n",
       "      <th>Disbursed Amount</th>\n",
       "      <th>Repaid to IBRD</th>\n",
       "      <th>Due to IBRD</th>\n",
       "      <th>Exchange Adjustment</th>\n",
       "      <th>Borrower's Obligation</th>\n",
       "      <th>Sold 3rd Party</th>\n",
       "      <th>Repaid 3rd Party</th>\n",
       "      <th>Due 3rd Party</th>\n",
       "      <th>Loans Held</th>\n",
       "    </tr>\n",
       "  </thead>\n",
       "  <tbody>\n",
       "    <tr>\n",
       "      <th>Interest Rate</th>\n",
       "      <td>1.000000</td>\n",
       "      <td>NaN</td>\n",
       "      <td>-0.307355</td>\n",
       "      <td>-0.094171</td>\n",
       "      <td>-0.214668</td>\n",
       "      <td>-0.254334</td>\n",
       "      <td>-0.068987</td>\n",
       "      <td>-0.284798</td>\n",
       "      <td>0.031783</td>\n",
       "      <td>-0.288529</td>\n",
       "      <td>0.055216</td>\n",
       "      <td>0.055216</td>\n",
       "      <td>NaN</td>\n",
       "      <td>-0.336439</td>\n",
       "    </tr>\n",
       "    <tr>\n",
       "      <th>Currency of Commitment</th>\n",
       "      <td>NaN</td>\n",
       "      <td>NaN</td>\n",
       "      <td>NaN</td>\n",
       "      <td>NaN</td>\n",
       "      <td>NaN</td>\n",
       "      <td>NaN</td>\n",
       "      <td>NaN</td>\n",
       "      <td>NaN</td>\n",
       "      <td>NaN</td>\n",
       "      <td>NaN</td>\n",
       "      <td>NaN</td>\n",
       "      <td>NaN</td>\n",
       "      <td>NaN</td>\n",
       "      <td>NaN</td>\n",
       "    </tr>\n",
       "    <tr>\n",
       "      <th>Original Principal Amount</th>\n",
       "      <td>-0.307355</td>\n",
       "      <td>NaN</td>\n",
       "      <td>1.000000</td>\n",
       "      <td>0.322231</td>\n",
       "      <td>0.273385</td>\n",
       "      <td>0.909906</td>\n",
       "      <td>0.592077</td>\n",
       "      <td>0.707133</td>\n",
       "      <td>-0.206793</td>\n",
       "      <td>0.703910</td>\n",
       "      <td>-0.017545</td>\n",
       "      <td>-0.017545</td>\n",
       "      <td>NaN</td>\n",
       "      <td>0.738310</td>\n",
       "    </tr>\n",
       "    <tr>\n",
       "      <th>Cancelled Amount</th>\n",
       "      <td>-0.094171</td>\n",
       "      <td>NaN</td>\n",
       "      <td>0.322231</td>\n",
       "      <td>1.000000</td>\n",
       "      <td>-0.017627</td>\n",
       "      <td>0.050203</td>\n",
       "      <td>0.041172</td>\n",
       "      <td>0.032133</td>\n",
       "      <td>-0.020150</td>\n",
       "      <td>0.030937</td>\n",
       "      <td>-0.023336</td>\n",
       "      <td>-0.023336</td>\n",
       "      <td>NaN</td>\n",
       "      <td>0.021945</td>\n",
       "    </tr>\n",
       "    <tr>\n",
       "      <th>Undisbursed Amount</th>\n",
       "      <td>-0.214668</td>\n",
       "      <td>NaN</td>\n",
       "      <td>0.273385</td>\n",
       "      <td>-0.017627</td>\n",
       "      <td>1.000000</td>\n",
       "      <td>0.005946</td>\n",
       "      <td>-0.072553</td>\n",
       "      <td>0.072673</td>\n",
       "      <td>-0.025681</td>\n",
       "      <td>0.071910</td>\n",
       "      <td>-0.019612</td>\n",
       "      <td>-0.019612</td>\n",
       "      <td>NaN</td>\n",
       "      <td>0.451182</td>\n",
       "    </tr>\n",
       "    <tr>\n",
       "      <th>Disbursed Amount</th>\n",
       "      <td>-0.254334</td>\n",
       "      <td>NaN</td>\n",
       "      <td>0.909906</td>\n",
       "      <td>0.050203</td>\n",
       "      <td>0.005946</td>\n",
       "      <td>1.000000</td>\n",
       "      <td>0.672912</td>\n",
       "      <td>0.757062</td>\n",
       "      <td>-0.218803</td>\n",
       "      <td>0.753864</td>\n",
       "      <td>-0.005183</td>\n",
       "      <td>-0.005183</td>\n",
       "      <td>NaN</td>\n",
       "      <td>0.679713</td>\n",
       "    </tr>\n",
       "    <tr>\n",
       "      <th>Repaid to IBRD</th>\n",
       "      <td>-0.068987</td>\n",
       "      <td>NaN</td>\n",
       "      <td>0.592077</td>\n",
       "      <td>0.041172</td>\n",
       "      <td>-0.072553</td>\n",
       "      <td>0.672912</td>\n",
       "      <td>1.000000</td>\n",
       "      <td>0.027095</td>\n",
       "      <td>-0.006015</td>\n",
       "      <td>0.027157</td>\n",
       "      <td>-0.019094</td>\n",
       "      <td>-0.019094</td>\n",
       "      <td>NaN</td>\n",
       "      <td>-0.003772</td>\n",
       "    </tr>\n",
       "    <tr>\n",
       "      <th>Due to IBRD</th>\n",
       "      <td>-0.284798</td>\n",
       "      <td>NaN</td>\n",
       "      <td>0.707133</td>\n",
       "      <td>0.032133</td>\n",
       "      <td>0.072673</td>\n",
       "      <td>0.757062</td>\n",
       "      <td>0.027095</td>\n",
       "      <td>1.000000</td>\n",
       "      <td>-0.290503</td>\n",
       "      <td>0.995631</td>\n",
       "      <td>-0.025484</td>\n",
       "      <td>-0.025484</td>\n",
       "      <td>NaN</td>\n",
       "      <td>0.922861</td>\n",
       "    </tr>\n",
       "    <tr>\n",
       "      <th>Exchange Adjustment</th>\n",
       "      <td>0.031783</td>\n",
       "      <td>NaN</td>\n",
       "      <td>-0.206793</td>\n",
       "      <td>-0.020150</td>\n",
       "      <td>-0.025681</td>\n",
       "      <td>-0.218803</td>\n",
       "      <td>-0.006015</td>\n",
       "      <td>-0.290503</td>\n",
       "      <td>1.000000</td>\n",
       "      <td>-0.199890</td>\n",
       "      <td>0.001867</td>\n",
       "      <td>0.001867</td>\n",
       "      <td>NaN</td>\n",
       "      <td>-0.269858</td>\n",
       "    </tr>\n",
       "    <tr>\n",
       "      <th>Borrower's Obligation</th>\n",
       "      <td>-0.288529</td>\n",
       "      <td>NaN</td>\n",
       "      <td>0.703910</td>\n",
       "      <td>0.030937</td>\n",
       "      <td>0.071910</td>\n",
       "      <td>0.753864</td>\n",
       "      <td>0.027157</td>\n",
       "      <td>0.995631</td>\n",
       "      <td>-0.199890</td>\n",
       "      <td>1.000000</td>\n",
       "      <td>-0.025913</td>\n",
       "      <td>-0.025913</td>\n",
       "      <td>NaN</td>\n",
       "      <td>0.918657</td>\n",
       "    </tr>\n",
       "    <tr>\n",
       "      <th>Sold 3rd Party</th>\n",
       "      <td>0.055216</td>\n",
       "      <td>NaN</td>\n",
       "      <td>-0.017545</td>\n",
       "      <td>-0.023336</td>\n",
       "      <td>-0.019612</td>\n",
       "      <td>-0.005183</td>\n",
       "      <td>-0.019094</td>\n",
       "      <td>-0.025484</td>\n",
       "      <td>0.001867</td>\n",
       "      <td>-0.025913</td>\n",
       "      <td>1.000000</td>\n",
       "      <td>1.000000</td>\n",
       "      <td>NaN</td>\n",
       "      <td>-0.030376</td>\n",
       "    </tr>\n",
       "    <tr>\n",
       "      <th>Repaid 3rd Party</th>\n",
       "      <td>0.055216</td>\n",
       "      <td>NaN</td>\n",
       "      <td>-0.017545</td>\n",
       "      <td>-0.023336</td>\n",
       "      <td>-0.019612</td>\n",
       "      <td>-0.005183</td>\n",
       "      <td>-0.019094</td>\n",
       "      <td>-0.025484</td>\n",
       "      <td>0.001867</td>\n",
       "      <td>-0.025913</td>\n",
       "      <td>1.000000</td>\n",
       "      <td>1.000000</td>\n",
       "      <td>NaN</td>\n",
       "      <td>-0.030376</td>\n",
       "    </tr>\n",
       "    <tr>\n",
       "      <th>Due 3rd Party</th>\n",
       "      <td>NaN</td>\n",
       "      <td>NaN</td>\n",
       "      <td>NaN</td>\n",
       "      <td>NaN</td>\n",
       "      <td>NaN</td>\n",
       "      <td>NaN</td>\n",
       "      <td>NaN</td>\n",
       "      <td>NaN</td>\n",
       "      <td>NaN</td>\n",
       "      <td>NaN</td>\n",
       "      <td>NaN</td>\n",
       "      <td>NaN</td>\n",
       "      <td>NaN</td>\n",
       "      <td>NaN</td>\n",
       "    </tr>\n",
       "    <tr>\n",
       "      <th>Loans Held</th>\n",
       "      <td>-0.336439</td>\n",
       "      <td>NaN</td>\n",
       "      <td>0.738310</td>\n",
       "      <td>0.021945</td>\n",
       "      <td>0.451182</td>\n",
       "      <td>0.679713</td>\n",
       "      <td>-0.003772</td>\n",
       "      <td>0.922861</td>\n",
       "      <td>-0.269858</td>\n",
       "      <td>0.918657</td>\n",
       "      <td>-0.030376</td>\n",
       "      <td>-0.030376</td>\n",
       "      <td>NaN</td>\n",
       "      <td>1.000000</td>\n",
       "    </tr>\n",
       "  </tbody>\n",
       "</table>\n",
       "</div>"
      ],
      "text/plain": [
       "                           Interest Rate  Currency of Commitment  \\\n",
       "Interest Rate                   1.000000                     NaN   \n",
       "Currency of Commitment               NaN                     NaN   \n",
       "Original Principal Amount      -0.307355                     NaN   \n",
       "Cancelled Amount               -0.094171                     NaN   \n",
       "Undisbursed Amount             -0.214668                     NaN   \n",
       "Disbursed Amount               -0.254334                     NaN   \n",
       "Repaid to IBRD                 -0.068987                     NaN   \n",
       "Due to IBRD                    -0.284798                     NaN   \n",
       "Exchange Adjustment             0.031783                     NaN   \n",
       "Borrower's Obligation          -0.288529                     NaN   \n",
       "Sold 3rd Party                  0.055216                     NaN   \n",
       "Repaid 3rd Party                0.055216                     NaN   \n",
       "Due 3rd Party                        NaN                     NaN   \n",
       "Loans Held                     -0.336439                     NaN   \n",
       "\n",
       "                           Original Principal Amount  Cancelled Amount  \\\n",
       "Interest Rate                              -0.307355         -0.094171   \n",
       "Currency of Commitment                           NaN               NaN   \n",
       "Original Principal Amount                   1.000000          0.322231   \n",
       "Cancelled Amount                            0.322231          1.000000   \n",
       "Undisbursed Amount                          0.273385         -0.017627   \n",
       "Disbursed Amount                            0.909906          0.050203   \n",
       "Repaid to IBRD                              0.592077          0.041172   \n",
       "Due to IBRD                                 0.707133          0.032133   \n",
       "Exchange Adjustment                        -0.206793         -0.020150   \n",
       "Borrower's Obligation                       0.703910          0.030937   \n",
       "Sold 3rd Party                             -0.017545         -0.023336   \n",
       "Repaid 3rd Party                           -0.017545         -0.023336   \n",
       "Due 3rd Party                                    NaN               NaN   \n",
       "Loans Held                                  0.738310          0.021945   \n",
       "\n",
       "                           Undisbursed Amount  Disbursed Amount  \\\n",
       "Interest Rate                       -0.214668         -0.254334   \n",
       "Currency of Commitment                    NaN               NaN   \n",
       "Original Principal Amount            0.273385          0.909906   \n",
       "Cancelled Amount                    -0.017627          0.050203   \n",
       "Undisbursed Amount                   1.000000          0.005946   \n",
       "Disbursed Amount                     0.005946          1.000000   \n",
       "Repaid to IBRD                      -0.072553          0.672912   \n",
       "Due to IBRD                          0.072673          0.757062   \n",
       "Exchange Adjustment                 -0.025681         -0.218803   \n",
       "Borrower's Obligation                0.071910          0.753864   \n",
       "Sold 3rd Party                      -0.019612         -0.005183   \n",
       "Repaid 3rd Party                    -0.019612         -0.005183   \n",
       "Due 3rd Party                             NaN               NaN   \n",
       "Loans Held                           0.451182          0.679713   \n",
       "\n",
       "                           Repaid to IBRD  Due to IBRD  Exchange Adjustment  \\\n",
       "Interest Rate                   -0.068987    -0.284798             0.031783   \n",
       "Currency of Commitment                NaN          NaN                  NaN   \n",
       "Original Principal Amount        0.592077     0.707133            -0.206793   \n",
       "Cancelled Amount                 0.041172     0.032133            -0.020150   \n",
       "Undisbursed Amount              -0.072553     0.072673            -0.025681   \n",
       "Disbursed Amount                 0.672912     0.757062            -0.218803   \n",
       "Repaid to IBRD                   1.000000     0.027095            -0.006015   \n",
       "Due to IBRD                      0.027095     1.000000            -0.290503   \n",
       "Exchange Adjustment             -0.006015    -0.290503             1.000000   \n",
       "Borrower's Obligation            0.027157     0.995631            -0.199890   \n",
       "Sold 3rd Party                  -0.019094    -0.025484             0.001867   \n",
       "Repaid 3rd Party                -0.019094    -0.025484             0.001867   \n",
       "Due 3rd Party                         NaN          NaN                  NaN   \n",
       "Loans Held                      -0.003772     0.922861            -0.269858   \n",
       "\n",
       "                           Borrower's Obligation  Sold 3rd Party  \\\n",
       "Interest Rate                          -0.288529        0.055216   \n",
       "Currency of Commitment                       NaN             NaN   \n",
       "Original Principal Amount               0.703910       -0.017545   \n",
       "Cancelled Amount                        0.030937       -0.023336   \n",
       "Undisbursed Amount                      0.071910       -0.019612   \n",
       "Disbursed Amount                        0.753864       -0.005183   \n",
       "Repaid to IBRD                          0.027157       -0.019094   \n",
       "Due to IBRD                             0.995631       -0.025484   \n",
       "Exchange Adjustment                    -0.199890        0.001867   \n",
       "Borrower's Obligation                   1.000000       -0.025913   \n",
       "Sold 3rd Party                         -0.025913        1.000000   \n",
       "Repaid 3rd Party                       -0.025913        1.000000   \n",
       "Due 3rd Party                                NaN             NaN   \n",
       "Loans Held                              0.918657       -0.030376   \n",
       "\n",
       "                           Repaid 3rd Party  Due 3rd Party  Loans Held  \n",
       "Interest Rate                      0.055216            NaN   -0.336439  \n",
       "Currency of Commitment                  NaN            NaN         NaN  \n",
       "Original Principal Amount         -0.017545            NaN    0.738310  \n",
       "Cancelled Amount                  -0.023336            NaN    0.021945  \n",
       "Undisbursed Amount                -0.019612            NaN    0.451182  \n",
       "Disbursed Amount                  -0.005183            NaN    0.679713  \n",
       "Repaid to IBRD                    -0.019094            NaN   -0.003772  \n",
       "Due to IBRD                       -0.025484            NaN    0.922861  \n",
       "Exchange Adjustment                0.001867            NaN   -0.269858  \n",
       "Borrower's Obligation             -0.025913            NaN    0.918657  \n",
       "Sold 3rd Party                     1.000000            NaN   -0.030376  \n",
       "Repaid 3rd Party                   1.000000            NaN   -0.030376  \n",
       "Due 3rd Party                           NaN            NaN         NaN  \n",
       "Loans Held                        -0.030376            NaN    1.000000  "
      ]
     },
     "execution_count": 109,
     "metadata": {},
     "output_type": "execute_result"
    }
   ],
   "source": [
    "#Correlation matrix of IBRD dataset.\n",
    "ibrd.corr()"
   ]
  },
  {
   "cell_type": "markdown",
   "metadata": {},
   "source": [
    "## Relationship between Disbursed Amount and Borrower's Obligation."
   ]
  },
  {
   "cell_type": "code",
   "execution_count": 110,
   "metadata": {},
   "outputs": [
    {
     "data": {
      "image/png": "[encoded data removed]",
      "text/plain": [
       "<Figure size 432x288 with 1 Axes>"
      ]
     },
     "metadata": {
      "needs_background": "light"
     },
     "output_type": "display_data"
    }
   ],
   "source": [
    "# Relation between Disbursed Amount and Borrower's Obligation of IDA.\n",
    "sns.scatterplot(x=\"Disbursed Amount\", y= \"Borrower's Obligation\", data = ida)\n",
    "plt.title(\"Disbursed Amount and Borrower's Obligation of IDA\")\n",
    "plt.show()"
   ]
  },
  {
   "cell_type": "markdown",
   "metadata": {},
   "source": [
    "The graph shows positive correlation between the variables."
   ]
  },
  {
   "cell_type": "code",
   "execution_count": 111,
   "metadata": {},
   "outputs": [
    {
     "data": {
      "image/png": "[encoded data removed]",
      "text/plain": [
       "<Figure size 432x288 with 1 Axes>"
      ]
     },
     "metadata": {
      "needs_background": "light"
     },
     "output_type": "display_data"
    }
   ],
   "source": [
    "# Relation between Disbursed Amount and Borrower's Obligation of IBRD.\n",
    "sns.scatterplot(x=\"Disbursed Amount\", y= \"Borrower's Obligation\", data = ibrd)\n",
    "plt.title(\"Relation between Disbursed Amount and Borrower's Obligation of IBRD\")\n",
    "plt.show()"
   ]
  },
  {
   "cell_type": "markdown",
   "metadata": {},
   "source": [
    "The graph shows positive correlation between the variables."
   ]
  },
  {
   "cell_type": "markdown",
   "metadata": {},
   "source": [
    "# Box Plot to check outliers on \"Original Principal Amount\" based on \"Region\"."
   ]
  },
  {
   "cell_type": "code",
   "execution_count": 112,
   "metadata": {},
   "outputs": [
    {
     "data": {
      "image/png": "[encoded data removed]",
      "text/plain": [
       "<Figure size 360x360 with 1 Axes>"
      ]
     },
     "metadata": {
      "needs_background": "light"
     },
     "output_type": "display_data"
    }
   ],
   "source": [
    "#Boxplot on Ida dataset\n",
    "sns.catplot(x= \"Original Principal Amount\" , y =\"Region\", kind = \"box\" , data = ida)\n",
    "plt.title(\"Box plot of Original Principal Amount of IDA on different region\")\n",
    "plt.show()"
   ]
  },
  {
   "cell_type": "markdown",
   "metadata": {},
   "source": [
    "from the graph it is clear that there are many countries in each region which has Original principal amount greater than the mean values."
   ]
  },
  {
   "cell_type": "code",
   "execution_count": 113,
   "metadata": {},
   "outputs": [
    {
     "data": {
      "image/png": "[encoded data removed]",
      "text/plain": [
       "<Figure size 360x360 with 1 Axes>"
      ]
     },
     "metadata": {
      "needs_background": "light"
     },
     "output_type": "display_data"
    }
   ],
   "source": [
    "#Boxplot on IBRD dataset\n",
    "sns.catplot(x= \"Original Principal Amount\" , y =\"Region\", kind = \"box\" , data = ibrd)\n",
    "plt.title(\"Box plot of Original Principal Amount of IBRD on different region\")\n",
    "plt.show()"
   ]
  },
  {
   "cell_type": "markdown",
   "metadata": {},
   "source": [
    "from the graph it is clear that there are many countries in each region which has Original principal amount greater than the mean values."
   ]
  },
  {
   "cell_type": "markdown",
   "metadata": {},
   "source": [
    "## Countries in different region which received funds from IDA and IBRD."
   ]
  },
  {
   "cell_type": "code",
   "execution_count": 114,
   "metadata": {},
   "outputs": [
    {
     "data": {
      "text/plain": [
       "Region\n",
       "AFRICA EAST                     24\n",
       "AFRICA WEST                     23\n",
       "EAST ASIA AND PACIFIC           24\n",
       "EUROPE AND CENTRAL ASIA         15\n",
       "LATIN AMERICA AND CARIBBEAN     19\n",
       "MIDDLE EAST AND NORTH AFRICA     9\n",
       "OTHER                            3\n",
       "SOUTH ASIA                       9\n",
       "Name: Country, dtype: int64"
      ]
     },
     "execution_count": 114,
     "metadata": {},
     "output_type": "execute_result"
    }
   ],
   "source": [
    "#Number of Countries in different region which received credits from IDA.\n",
    "ida.groupby('Region')[\"Country\"].nunique()"
   ]
  },
  {
   "cell_type": "code",
   "execution_count": 115,
   "metadata": {},
   "outputs": [
    {
     "data": {
      "text/plain": [
       "Region\n",
       "AFRICA EAST                     22\n",
       "AFRICA WEST                     15\n",
       "EAST ASIA AND PACIFIC           17\n",
       "EUROPE AND CENTRAL ASIA         44\n",
       "LATIN AMERICA AND CARIBBEAN     33\n",
       "MIDDLE EAST AND NORTH AFRICA    12\n",
       "OTHER                            1\n",
       "SOUTH ASIA                       4\n",
       "Name: Country, dtype: int64"
      ]
     },
     "execution_count": 115,
     "metadata": {},
     "output_type": "execute_result"
    }
   ],
   "source": [
    "#Number of Countries in different region which received credits from IBRD.\n",
    "ibrd.groupby('Region')[\"Country\"].nunique()"
   ]
  },
  {
   "cell_type": "markdown",
   "metadata": {},
   "source": [
    "## Average Amount repaid to IDA and IBRD by region."
   ]
  },
  {
   "cell_type": "code",
   "execution_count": 116,
   "metadata": {},
   "outputs": [
    {
     "data": {
      "text/html": [
       "<div>\n",
       "<style scoped>\n",
       "    .dataframe tbody tr th:only-of-type {\n",
       "        vertical-align: middle;\n",
       "    }\n",
       "\n",
       "    .dataframe tbody tr th {\n",
       "        vertical-align: top;\n",
       "    }\n",
       "\n",
       "    .dataframe thead th {\n",
       "        text-align: right;\n",
       "    }\n",
       "</style>\n",
       "<table border=\"1\" class=\"dataframe\">\n",
       "  <thead>\n",
       "    <tr style=\"text-align: right;\">\n",
       "      <th></th>\n",
       "      <th>Repaid to IDA</th>\n",
       "    </tr>\n",
       "    <tr>\n",
       "      <th>Region</th>\n",
       "      <th></th>\n",
       "    </tr>\n",
       "  </thead>\n",
       "  <tbody>\n",
       "    <tr>\n",
       "      <th>AFRICA EAST</th>\n",
       "      <td>1.188648e+07</td>\n",
       "    </tr>\n",
       "    <tr>\n",
       "      <th>AFRICA WEST</th>\n",
       "      <td>8.461482e+06</td>\n",
       "    </tr>\n",
       "    <tr>\n",
       "      <th>EAST ASIA AND PACIFIC</th>\n",
       "      <td>1.679660e+07</td>\n",
       "    </tr>\n",
       "    <tr>\n",
       "      <th>EUROPE AND CENTRAL ASIA</th>\n",
       "      <td>5.312975e+06</td>\n",
       "    </tr>\n",
       "    <tr>\n",
       "      <th>LATIN AMERICA AND CARIBBEAN</th>\n",
       "      <td>8.191077e+06</td>\n",
       "    </tr>\n",
       "    <tr>\n",
       "      <th>MIDDLE EAST AND NORTH AFRICA</th>\n",
       "      <td>8.211035e+06</td>\n",
       "    </tr>\n",
       "    <tr>\n",
       "      <th>OTHER</th>\n",
       "      <td>3.250000e+04</td>\n",
       "    </tr>\n",
       "    <tr>\n",
       "      <th>SOUTH ASIA</th>\n",
       "      <td>2.327035e+07</td>\n",
       "    </tr>\n",
       "  </tbody>\n",
       "</table>\n",
       "</div>"
      ],
      "text/plain": [
       "                              Repaid to IDA\n",
       "Region                                     \n",
       "AFRICA EAST                    1.188648e+07\n",
       "AFRICA WEST                    8.461482e+06\n",
       "EAST ASIA AND PACIFIC          1.679660e+07\n",
       "EUROPE AND CENTRAL ASIA        5.312975e+06\n",
       "LATIN AMERICA AND CARIBBEAN    8.191077e+06\n",
       "MIDDLE EAST AND NORTH AFRICA   8.211035e+06\n",
       "OTHER                          3.250000e+04\n",
       "SOUTH ASIA                     2.327035e+07"
      ]
     },
     "execution_count": 116,
     "metadata": {},
     "output_type": "execute_result"
    }
   ],
   "source": [
    "#Average amount of credits repaid to IDA by region.\n",
    "ida.groupby([\"Region\"])[[\"Repaid to IDA\"]].mean()"
   ]
  },
  {
   "cell_type": "code",
   "execution_count": 117,
   "metadata": {},
   "outputs": [
    {
     "data": {
      "text/html": [
       "<div>\n",
       "<style scoped>\n",
       "    .dataframe tbody tr th:only-of-type {\n",
       "        vertical-align: middle;\n",
       "    }\n",
       "\n",
       "    .dataframe tbody tr th {\n",
       "        vertical-align: top;\n",
       "    }\n",
       "\n",
       "    .dataframe thead th {\n",
       "        text-align: right;\n",
       "    }\n",
       "</style>\n",
       "<table border=\"1\" class=\"dataframe\">\n",
       "  <thead>\n",
       "    <tr style=\"text-align: right;\">\n",
       "      <th></th>\n",
       "      <th>Repaid to IBRD</th>\n",
       "    </tr>\n",
       "    <tr>\n",
       "      <th>Region</th>\n",
       "      <th></th>\n",
       "    </tr>\n",
       "  </thead>\n",
       "  <tbody>\n",
       "    <tr>\n",
       "      <th>AFRICA EAST</th>\n",
       "      <td>1.245953e+07</td>\n",
       "    </tr>\n",
       "    <tr>\n",
       "      <th>AFRICA WEST</th>\n",
       "      <td>2.528504e+07</td>\n",
       "    </tr>\n",
       "    <tr>\n",
       "      <th>EAST ASIA AND PACIFIC</th>\n",
       "      <td>4.851071e+07</td>\n",
       "    </tr>\n",
       "    <tr>\n",
       "      <th>EUROPE AND CENTRAL ASIA</th>\n",
       "      <td>4.523872e+07</td>\n",
       "    </tr>\n",
       "    <tr>\n",
       "      <th>LATIN AMERICA AND CARIBBEAN</th>\n",
       "      <td>5.040087e+07</td>\n",
       "    </tr>\n",
       "    <tr>\n",
       "      <th>MIDDLE EAST AND NORTH AFRICA</th>\n",
       "      <td>2.945373e+07</td>\n",
       "    </tr>\n",
       "    <tr>\n",
       "      <th>OTHER</th>\n",
       "      <td>8.279686e+06</td>\n",
       "    </tr>\n",
       "    <tr>\n",
       "      <th>SOUTH ASIA</th>\n",
       "      <td>6.760412e+07</td>\n",
       "    </tr>\n",
       "  </tbody>\n",
       "</table>\n",
       "</div>"
      ],
      "text/plain": [
       "                              Repaid to IBRD\n",
       "Region                                      \n",
       "AFRICA EAST                     1.245953e+07\n",
       "AFRICA WEST                     2.528504e+07\n",
       "EAST ASIA AND PACIFIC           4.851071e+07\n",
       "EUROPE AND CENTRAL ASIA         4.523872e+07\n",
       "LATIN AMERICA AND CARIBBEAN     5.040087e+07\n",
       "MIDDLE EAST AND NORTH AFRICA    2.945373e+07\n",
       "OTHER                           8.279686e+06\n",
       "SOUTH ASIA                      6.760412e+07"
      ]
     },
     "execution_count": 117,
     "metadata": {},
     "output_type": "execute_result"
    }
   ],
   "source": [
    "#Average amount of credits repaid to IBRD by region.\n",
    "ibrd.groupby([\"Region\"])[[\"Repaid to IBRD\"]].mean()"
   ]
  },
  {
   "cell_type": "code",
   "execution_count": null,
   "metadata": {},
   "outputs": [],
   "source": []
  },
  {
   "cell_type": "markdown",
   "metadata": {},
   "source": [
    "## Univariate analysis : Credit dstribution by \"Region\"."
   ]
  },
  {
   "cell_type": "code",
   "execution_count": 118,
   "metadata": {},
   "outputs": [
    {
     "data": {
      "image/png": "[encoded data removed]",
      "text/plain": [
       "<Figure size 432x288 with 1 Axes>"
      ]
     },
     "metadata": {
      "needs_background": "light"
     },
     "output_type": "display_data"
    }
   ],
   "source": [
    "#Number of IDA credit Distribution by Region\n",
    "ax = sns.countplot(x= \"Region\", data= ida)\n",
    "ax.set_xticklabels(ax.get_xticklabels(), rotation=40, ha=\"right\")\n",
    "plt.title(\"IDA credit distribution by Region\")\n",
    "plt.show()"
   ]
  },
  {
   "cell_type": "code",
   "execution_count": 119,
   "metadata": {},
   "outputs": [
    {
     "data": {
      "image/png": "[encoded data removed]",
      "text/plain": [
       "<Figure size 432x288 with 1 Axes>"
      ]
     },
     "metadata": {
      "needs_background": "light"
     },
     "output_type": "display_data"
    }
   ],
   "source": [
    "#Number of IBRD credit Distribution by Region\n",
    "ax = sns.countplot(x= \"Region\", data= ibrd)\n",
    "ax.set_xticklabels(ax.get_xticklabels(), rotation=40, ha=\"right\")\n",
    "plt.title(\"IBRD credit distribution by Region\")\n",
    "plt.show()"
   ]
  },
  {
   "cell_type": "markdown",
   "metadata": {},
   "source": [
    "## Univariate analysis: "
   ]
  },
  {
   "cell_type": "markdown",
   "metadata": {},
   "source": [
    "### Credit status  of IDA."
   ]
  },
  {
   "cell_type": "code",
   "execution_count": 120,
   "metadata": {},
   "outputs": [
    {
     "data": {
      "image/png": "[encoded data removed]",
      "text/plain": [
       "<Figure size 432x288 with 1 Axes>"
      ]
     },
     "metadata": {
      "needs_background": "light"
     },
     "output_type": "display_data"
    }
   ],
   "source": [
    "#Number of IDA credit Distribution by Region\n",
    "ax = sns.countplot(x= \"Credit Status\", data= ida)\n",
    "ax.set_xticklabels(ax.get_xticklabels(), rotation = 40 , ha=\"right\")\n",
    "plt.title(\"IDA credit distribution by Credit Status\")\n",
    "plt.show()"
   ]
  },
  {
   "cell_type": "markdown",
   "metadata": {},
   "source": [
    "### Loan status  of IBRD."
   ]
  },
  {
   "cell_type": "code",
   "execution_count": 121,
   "metadata": {},
   "outputs": [
    {
     "data": {
      "image/png": "[encoded data removed]",
      "text/plain": [
       "<Figure size 432x288 with 1 Axes>"
      ]
     },
     "metadata": {
      "needs_background": "light"
     },
     "output_type": "display_data"
    }
   ],
   "source": [
    "#Number of IBRD Loan Distribution by Region\n",
    "ax = sns.countplot(x= \"Loan Status\", data= ibrd)\n",
    "ax.set_xticklabels(ax.get_xticklabels(), rotation = 40 , ha=\"right\")\n",
    "plt.title(\"IBRD Loan distribution by Loan Status\")\n",
    "plt.show()"
   ]
  },
  {
   "cell_type": "markdown",
   "metadata": {},
   "source": [
    "# Data Cleaning and Transformation"
   ]
  },
  {
   "cell_type": "markdown",
   "metadata": {},
   "source": [
    "## 1.Data Transformation"
   ]
  },
  {
   "cell_type": "code",
   "execution_count": 216,
   "metadata": {},
   "outputs": [
    {
     "name": "stderr",
     "output_type": "stream",
     "text": [
      "C:\\anaconda3\\lib\\site-packages\\pandas\\core\\frame.py:4441: SettingWithCopyWarning: \n",
      "A value is trying to be set on a copy of a slice from a DataFrame\n",
      "\n",
      "See the caveats in the documentation: https://pandas.pydata.org/pandas-docs/stable/user_guide/indexing.html#returning-a-view-versus-a-copy\n",
      "  return super().rename(\n"
     ]
    },
    {
     "data": {
      "text/html": [
       "<div>\n",
       "<style scoped>\n",
       "    .dataframe tbody tr th:only-of-type {\n",
       "        vertical-align: middle;\n",
       "    }\n",
       "\n",
       "    .dataframe tbody tr th {\n",
       "        vertical-align: top;\n",
       "    }\n",
       "\n",
       "    .dataframe thead th {\n",
       "        text-align: right;\n",
       "    }\n",
       "</style>\n",
       "<table border=\"1\" class=\"dataframe\">\n",
       "  <thead>\n",
       "    <tr style=\"text-align: right;\">\n",
       "      <th></th>\n",
       "      <th>Unique id</th>\n",
       "      <th>Region</th>\n",
       "      <th>Country</th>\n",
       "      <th>Status</th>\n",
       "      <th>Disbursed Amount</th>\n",
       "      <th>Repaid Amount</th>\n",
       "      <th>Rate</th>\n",
       "    </tr>\n",
       "  </thead>\n",
       "  <tbody>\n",
       "    <tr>\n",
       "      <th>0</th>\n",
       "      <td>IDA00010</td>\n",
       "      <td>LATIN AMERICA AND CARIBBEAN</td>\n",
       "      <td>Honduras</td>\n",
       "      <td>Fully Repaid</td>\n",
       "      <td>8427973.97</td>\n",
       "      <td>8427973.97</td>\n",
       "      <td>0.75</td>\n",
       "    </tr>\n",
       "    <tr>\n",
       "      <th>1</th>\n",
       "      <td>IDA00020</td>\n",
       "      <td>AFRICA EAST</td>\n",
       "      <td>Sudan</td>\n",
       "      <td>Repaying</td>\n",
       "      <td>14876498.94</td>\n",
       "      <td>14876498.94</td>\n",
       "      <td>0.75</td>\n",
       "    </tr>\n",
       "    <tr>\n",
       "      <th>2</th>\n",
       "      <td>IDA00030</td>\n",
       "      <td>SOUTH ASIA</td>\n",
       "      <td>India</td>\n",
       "      <td>Fully Repaid</td>\n",
       "      <td>71582713.47</td>\n",
       "      <td>71582713.47</td>\n",
       "      <td>0.75</td>\n",
       "    </tr>\n",
       "    <tr>\n",
       "      <th>3</th>\n",
       "      <td>IDA00040</td>\n",
       "      <td>LATIN AMERICA AND CARIBBEAN</td>\n",
       "      <td>Chile</td>\n",
       "      <td>Fully Repaid</td>\n",
       "      <td>22876674.49</td>\n",
       "      <td>22876674.49</td>\n",
       "      <td>0.75</td>\n",
       "    </tr>\n",
       "    <tr>\n",
       "      <th>4</th>\n",
       "      <td>IDA00050</td>\n",
       "      <td>LATIN AMERICA AND CARIBBEAN</td>\n",
       "      <td>Colombia</td>\n",
       "      <td>Fully Repaid</td>\n",
       "      <td>23480995.92</td>\n",
       "      <td>23480995.92</td>\n",
       "      <td>0.75</td>\n",
       "    </tr>\n",
       "    <tr>\n",
       "      <th>...</th>\n",
       "      <td>...</td>\n",
       "      <td>...</td>\n",
       "      <td>...</td>\n",
       "      <td>...</td>\n",
       "      <td>...</td>\n",
       "      <td>...</td>\n",
       "      <td>...</td>\n",
       "    </tr>\n",
       "    <tr>\n",
       "      <th>9377</th>\n",
       "      <td>IDAS0230</td>\n",
       "      <td>AFRICA WEST</td>\n",
       "      <td>Senegal</td>\n",
       "      <td>Fully Repaid</td>\n",
       "      <td>2294805.36</td>\n",
       "      <td>2294805.36</td>\n",
       "      <td>0.75</td>\n",
       "    </tr>\n",
       "    <tr>\n",
       "      <th>9378</th>\n",
       "      <td>IDAS0240</td>\n",
       "      <td>AFRICA EAST</td>\n",
       "      <td>Tanzania</td>\n",
       "      <td>Fully Repaid</td>\n",
       "      <td>2500000.00</td>\n",
       "      <td>2500000.00</td>\n",
       "      <td>0.75</td>\n",
       "    </tr>\n",
       "    <tr>\n",
       "      <th>9379</th>\n",
       "      <td>IDAS0250</td>\n",
       "      <td>LATIN AMERICA AND CARIBBEAN</td>\n",
       "      <td>Bolivia</td>\n",
       "      <td>Fully Repaid</td>\n",
       "      <td>15999591.96</td>\n",
       "      <td>15999591.96</td>\n",
       "      <td>0.75</td>\n",
       "    </tr>\n",
       "    <tr>\n",
       "      <th>9380</th>\n",
       "      <td>IDAS0260</td>\n",
       "      <td>AFRICA WEST</td>\n",
       "      <td>Senegal</td>\n",
       "      <td>Fully Repaid</td>\n",
       "      <td>3300000.00</td>\n",
       "      <td>3300000.00</td>\n",
       "      <td>0.75</td>\n",
       "    </tr>\n",
       "    <tr>\n",
       "      <th>9381</th>\n",
       "      <td>IDAS0270</td>\n",
       "      <td>AFRICA EAST</td>\n",
       "      <td>Tanzania</td>\n",
       "      <td>Fully Repaid</td>\n",
       "      <td>30000000.00</td>\n",
       "      <td>30000000.00</td>\n",
       "      <td>0.75</td>\n",
       "    </tr>\n",
       "  </tbody>\n",
       "</table>\n",
       "<p>9382 rows × 7 columns</p>\n",
       "</div>"
      ],
      "text/plain": [
       "     Unique id                       Region   Country        Status  \\\n",
       "0     IDA00010  LATIN AMERICA AND CARIBBEAN  Honduras  Fully Repaid   \n",
       "1     IDA00020                  AFRICA EAST     Sudan      Repaying   \n",
       "2     IDA00030                   SOUTH ASIA     India  Fully Repaid   \n",
       "3     IDA00040  LATIN AMERICA AND CARIBBEAN     Chile  Fully Repaid   \n",
       "4     IDA00050  LATIN AMERICA AND CARIBBEAN  Colombia  Fully Repaid   \n",
       "...        ...                          ...       ...           ...   \n",
       "9377  IDAS0230                  AFRICA WEST   Senegal  Fully Repaid   \n",
       "9378  IDAS0240                  AFRICA EAST  Tanzania  Fully Repaid   \n",
       "9379  IDAS0250  LATIN AMERICA AND CARIBBEAN   Bolivia  Fully Repaid   \n",
       "9380  IDAS0260                  AFRICA WEST   Senegal  Fully Repaid   \n",
       "9381  IDAS0270                  AFRICA EAST  Tanzania  Fully Repaid   \n",
       "\n",
       "      Disbursed Amount  Repaid Amount  Rate  \n",
       "0           8427973.97     8427973.97  0.75  \n",
       "1          14876498.94    14876498.94  0.75  \n",
       "2          71582713.47    71582713.47  0.75  \n",
       "3          22876674.49    22876674.49  0.75  \n",
       "4          23480995.92    23480995.92  0.75  \n",
       "...                ...            ...   ...  \n",
       "9377        2294805.36     2294805.36  0.75  \n",
       "9378        2500000.00     2500000.00  0.75  \n",
       "9379       15999591.96    15999591.96  0.75  \n",
       "9380        3300000.00     3300000.00  0.75  \n",
       "9381       30000000.00    30000000.00  0.75  \n",
       "\n",
       "[9382 rows x 7 columns]"
      ]
     },
     "execution_count": 216,
     "metadata": {},
     "output_type": "execute_result"
    }
   ],
   "source": [
    "#Removing unwanted columns and renaming some columns of IDA dataset.\n",
    "ida_transformed = ida[[\"Credit Number\",\"Region\",\"Country\",\"Credit Status\",\"Disbursed Amount\",\"Repaid to IDA\",\"Service Charge Rate\"]]\n",
    "ida_transformed.rename(columns = {\"Credit Number\":\"Unique id\",\"Credit Status\" : \"Status\",\"Service Charge Rate\" : \"Rate\",\"Repaid to IDA\":\"Repaid Amount\"},inplace = True)\n",
    "ida_transformed"
   ]
  },
  {
   "cell_type": "code",
   "execution_count": 217,
   "metadata": {},
   "outputs": [
    {
     "name": "stderr",
     "output_type": "stream",
     "text": [
      "C:\\anaconda3\\lib\\site-packages\\pandas\\core\\frame.py:4441: SettingWithCopyWarning: \n",
      "A value is trying to be set on a copy of a slice from a DataFrame\n",
      "\n",
      "See the caveats in the documentation: https://pandas.pydata.org/pandas-docs/stable/user_guide/indexing.html#returning-a-view-versus-a-copy\n",
      "  return super().rename(\n"
     ]
    },
    {
     "data": {
      "text/html": [
       "<div>\n",
       "<style scoped>\n",
       "    .dataframe tbody tr th:only-of-type {\n",
       "        vertical-align: middle;\n",
       "    }\n",
       "\n",
       "    .dataframe tbody tr th {\n",
       "        vertical-align: top;\n",
       "    }\n",
       "\n",
       "    .dataframe thead th {\n",
       "        text-align: right;\n",
       "    }\n",
       "</style>\n",
       "<table border=\"1\" class=\"dataframe\">\n",
       "  <thead>\n",
       "    <tr style=\"text-align: right;\">\n",
       "      <th></th>\n",
       "      <th>Unique id</th>\n",
       "      <th>Region</th>\n",
       "      <th>Country</th>\n",
       "      <th>Status</th>\n",
       "      <th>Disbursed Amount</th>\n",
       "      <th>Repaid Amount</th>\n",
       "      <th>Rate</th>\n",
       "    </tr>\n",
       "  </thead>\n",
       "  <tbody>\n",
       "    <tr>\n",
       "      <th>0</th>\n",
       "      <td>IBRD00010</td>\n",
       "      <td>EUROPE AND CENTRAL ASIA</td>\n",
       "      <td>France</td>\n",
       "      <td>Fully Repaid</td>\n",
       "      <td>2.500000e+08</td>\n",
       "      <td>3.800000e+04</td>\n",
       "      <td>4.25</td>\n",
       "    </tr>\n",
       "    <tr>\n",
       "      <th>1</th>\n",
       "      <td>IBRD00020</td>\n",
       "      <td>EUROPE AND CENTRAL ASIA</td>\n",
       "      <td>Netherlands</td>\n",
       "      <td>Fully Repaid</td>\n",
       "      <td>1.910442e+08</td>\n",
       "      <td>1.033722e+08</td>\n",
       "      <td>4.25</td>\n",
       "    </tr>\n",
       "    <tr>\n",
       "      <th>2</th>\n",
       "      <td>IBRD00021</td>\n",
       "      <td>EUROPE AND CENTRAL ASIA</td>\n",
       "      <td>Netherlands</td>\n",
       "      <td>Fully Repaid</td>\n",
       "      <td>3.955788e+06</td>\n",
       "      <td>0.000000e+00</td>\n",
       "      <td>4.25</td>\n",
       "    </tr>\n",
       "    <tr>\n",
       "      <th>3</th>\n",
       "      <td>IBRD00030</td>\n",
       "      <td>EUROPE AND CENTRAL ASIA</td>\n",
       "      <td>Denmark</td>\n",
       "      <td>Fully Repaid</td>\n",
       "      <td>4.000000e+07</td>\n",
       "      <td>1.777100e+07</td>\n",
       "      <td>4.25</td>\n",
       "    </tr>\n",
       "    <tr>\n",
       "      <th>4</th>\n",
       "      <td>IBRD00040</td>\n",
       "      <td>EUROPE AND CENTRAL ASIA</td>\n",
       "      <td>Luxembourg</td>\n",
       "      <td>Fully Repaid</td>\n",
       "      <td>1.176198e+07</td>\n",
       "      <td>1.619983e+06</td>\n",
       "      <td>4.25</td>\n",
       "    </tr>\n",
       "    <tr>\n",
       "      <th>...</th>\n",
       "      <td>...</td>\n",
       "      <td>...</td>\n",
       "      <td>...</td>\n",
       "      <td>...</td>\n",
       "      <td>...</td>\n",
       "      <td>...</td>\n",
       "      <td>...</td>\n",
       "    </tr>\n",
       "    <tr>\n",
       "      <th>9052</th>\n",
       "      <td>IBRDS0160</td>\n",
       "      <td>MIDDLE EAST AND NORTH AFRICA</td>\n",
       "      <td>Algeria</td>\n",
       "      <td>Fully Cancelled</td>\n",
       "      <td>0.000000e+00</td>\n",
       "      <td>0.000000e+00</td>\n",
       "      <td>0.00</td>\n",
       "    </tr>\n",
       "    <tr>\n",
       "      <th>9053</th>\n",
       "      <td>IBRDS0170</td>\n",
       "      <td>MIDDLE EAST AND NORTH AFRICA</td>\n",
       "      <td>Algeria</td>\n",
       "      <td>Fully Repaid</td>\n",
       "      <td>3.611691e+06</td>\n",
       "      <td>3.611691e+06</td>\n",
       "      <td>7.95</td>\n",
       "    </tr>\n",
       "    <tr>\n",
       "      <th>9054</th>\n",
       "      <td>IBRDS0180</td>\n",
       "      <td>MIDDLE EAST AND NORTH AFRICA</td>\n",
       "      <td>Morocco</td>\n",
       "      <td>Fully Repaid</td>\n",
       "      <td>4.989608e+07</td>\n",
       "      <td>4.989608e+07</td>\n",
       "      <td>8.25</td>\n",
       "    </tr>\n",
       "    <tr>\n",
       "      <th>9055</th>\n",
       "      <td>IBRDS0190</td>\n",
       "      <td>LATIN AMERICA AND CARIBBEAN</td>\n",
       "      <td>Peru</td>\n",
       "      <td>Fully Repaid</td>\n",
       "      <td>1.356857e+06</td>\n",
       "      <td>1.356857e+06</td>\n",
       "      <td>8.25</td>\n",
       "    </tr>\n",
       "    <tr>\n",
       "      <th>9056</th>\n",
       "      <td>IBRDS0200</td>\n",
       "      <td>LATIN AMERICA AND CARIBBEAN</td>\n",
       "      <td>Argentina</td>\n",
       "      <td>Fully Repaid</td>\n",
       "      <td>1.000000e+07</td>\n",
       "      <td>1.000000e+07</td>\n",
       "      <td>9.25</td>\n",
       "    </tr>\n",
       "  </tbody>\n",
       "</table>\n",
       "<p>9057 rows × 7 columns</p>\n",
       "</div>"
      ],
      "text/plain": [
       "      Unique id                        Region      Country           Status  \\\n",
       "0     IBRD00010       EUROPE AND CENTRAL ASIA       France     Fully Repaid   \n",
       "1     IBRD00020       EUROPE AND CENTRAL ASIA  Netherlands     Fully Repaid   \n",
       "2     IBRD00021       EUROPE AND CENTRAL ASIA  Netherlands     Fully Repaid   \n",
       "3     IBRD00030       EUROPE AND CENTRAL ASIA      Denmark     Fully Repaid   \n",
       "4     IBRD00040       EUROPE AND CENTRAL ASIA   Luxembourg     Fully Repaid   \n",
       "...         ...                           ...          ...              ...   \n",
       "9052  IBRDS0160  MIDDLE EAST AND NORTH AFRICA      Algeria  Fully Cancelled   \n",
       "9053  IBRDS0170  MIDDLE EAST AND NORTH AFRICA      Algeria     Fully Repaid   \n",
       "9054  IBRDS0180  MIDDLE EAST AND NORTH AFRICA      Morocco     Fully Repaid   \n",
       "9055  IBRDS0190   LATIN AMERICA AND CARIBBEAN         Peru     Fully Repaid   \n",
       "9056  IBRDS0200   LATIN AMERICA AND CARIBBEAN    Argentina     Fully Repaid   \n",
       "\n",
       "      Disbursed Amount  Repaid Amount  Rate  \n",
       "0         2.500000e+08   3.800000e+04  4.25  \n",
       "1         1.910442e+08   1.033722e+08  4.25  \n",
       "2         3.955788e+06   0.000000e+00  4.25  \n",
       "3         4.000000e+07   1.777100e+07  4.25  \n",
       "4         1.176198e+07   1.619983e+06  4.25  \n",
       "...                ...            ...   ...  \n",
       "9052      0.000000e+00   0.000000e+00  0.00  \n",
       "9053      3.611691e+06   3.611691e+06  7.95  \n",
       "9054      4.989608e+07   4.989608e+07  8.25  \n",
       "9055      1.356857e+06   1.356857e+06  8.25  \n",
       "9056      1.000000e+07   1.000000e+07  9.25  \n",
       "\n",
       "[9057 rows x 7 columns]"
      ]
     },
     "execution_count": 217,
     "metadata": {},
     "output_type": "execute_result"
    }
   ],
   "source": [
    "#Removing unwanted columns and renaming some columns of IBRD dataset.BB\n",
    "ibrd_transformed=ibrd[[\"Loan Number\",\"Region\",\"Country\",\"Loan Status\",\"Disbursed Amount\",\"Repaid to IBRD\",\"Interest Rate\"]]\n",
    "ibrd_transformed.rename(columns = {\"Loan Number\":\"Unique id\",\"Loan Status\" : \"Status\", \"Interest Rate\": \"Rate\",\"Repaid to IBRD\":\"Repaid Amount\"},inplace = True)\n",
    "ibrd_transformed"
   ]
  },
  {
   "cell_type": "code",
   "execution_count": 124,
   "metadata": {},
   "outputs": [
    {
     "data": {
      "text/html": [
       "<div>\n",
       "<style scoped>\n",
       "    .dataframe tbody tr th:only-of-type {\n",
       "        vertical-align: middle;\n",
       "    }\n",
       "\n",
       "    .dataframe tbody tr th {\n",
       "        vertical-align: top;\n",
       "    }\n",
       "\n",
       "    .dataframe thead th {\n",
       "        text-align: right;\n",
       "    }\n",
       "</style>\n",
       "<table border=\"1\" class=\"dataframe\">\n",
       "  <thead>\n",
       "    <tr style=\"text-align: right;\">\n",
       "      <th></th>\n",
       "      <th>Unique id</th>\n",
       "      <th>Region</th>\n",
       "      <th>Country</th>\n",
       "      <th>Status</th>\n",
       "      <th>Disbursed Amount</th>\n",
       "      <th>Repaid Amount</th>\n",
       "      <th>Rate</th>\n",
       "    </tr>\n",
       "  </thead>\n",
       "  <tbody>\n",
       "    <tr>\n",
       "      <th>0</th>\n",
       "      <td>IDA00010</td>\n",
       "      <td>LATIN AMERICA AND CARIBBEAN</td>\n",
       "      <td>Honduras</td>\n",
       "      <td>Fully Repaid</td>\n",
       "      <td>8427973.97</td>\n",
       "      <td>8427973.97</td>\n",
       "      <td>0.75</td>\n",
       "    </tr>\n",
       "    <tr>\n",
       "      <th>1</th>\n",
       "      <td>IDA00020</td>\n",
       "      <td>AFRICA EAST</td>\n",
       "      <td>Sudan</td>\n",
       "      <td>Repaying</td>\n",
       "      <td>14876498.94</td>\n",
       "      <td>14876498.94</td>\n",
       "      <td>0.75</td>\n",
       "    </tr>\n",
       "    <tr>\n",
       "      <th>2</th>\n",
       "      <td>IDA00030</td>\n",
       "      <td>SOUTH ASIA</td>\n",
       "      <td>India</td>\n",
       "      <td>Fully Repaid</td>\n",
       "      <td>71582713.47</td>\n",
       "      <td>71582713.47</td>\n",
       "      <td>0.75</td>\n",
       "    </tr>\n",
       "    <tr>\n",
       "      <th>3</th>\n",
       "      <td>IDA00040</td>\n",
       "      <td>LATIN AMERICA AND CARIBBEAN</td>\n",
       "      <td>Chile</td>\n",
       "      <td>Fully Repaid</td>\n",
       "      <td>22876674.49</td>\n",
       "      <td>22876674.49</td>\n",
       "      <td>0.75</td>\n",
       "    </tr>\n",
       "    <tr>\n",
       "      <th>4</th>\n",
       "      <td>IDA00050</td>\n",
       "      <td>LATIN AMERICA AND CARIBBEAN</td>\n",
       "      <td>Colombia</td>\n",
       "      <td>Fully Repaid</td>\n",
       "      <td>23480995.92</td>\n",
       "      <td>23480995.92</td>\n",
       "      <td>0.75</td>\n",
       "    </tr>\n",
       "    <tr>\n",
       "      <th>...</th>\n",
       "      <td>...</td>\n",
       "      <td>...</td>\n",
       "      <td>...</td>\n",
       "      <td>...</td>\n",
       "      <td>...</td>\n",
       "      <td>...</td>\n",
       "      <td>...</td>\n",
       "    </tr>\n",
       "    <tr>\n",
       "      <th>9052</th>\n",
       "      <td>IBRDS0160</td>\n",
       "      <td>MIDDLE EAST AND NORTH AFRICA</td>\n",
       "      <td>Algeria</td>\n",
       "      <td>Fully Cancelled</td>\n",
       "      <td>0.00</td>\n",
       "      <td>0.00</td>\n",
       "      <td>0.00</td>\n",
       "    </tr>\n",
       "    <tr>\n",
       "      <th>9053</th>\n",
       "      <td>IBRDS0170</td>\n",
       "      <td>MIDDLE EAST AND NORTH AFRICA</td>\n",
       "      <td>Algeria</td>\n",
       "      <td>Fully Repaid</td>\n",
       "      <td>3611691.08</td>\n",
       "      <td>3611691.08</td>\n",
       "      <td>7.95</td>\n",
       "    </tr>\n",
       "    <tr>\n",
       "      <th>9054</th>\n",
       "      <td>IBRDS0180</td>\n",
       "      <td>MIDDLE EAST AND NORTH AFRICA</td>\n",
       "      <td>Morocco</td>\n",
       "      <td>Fully Repaid</td>\n",
       "      <td>49896082.71</td>\n",
       "      <td>49896082.71</td>\n",
       "      <td>8.25</td>\n",
       "    </tr>\n",
       "    <tr>\n",
       "      <th>9055</th>\n",
       "      <td>IBRDS0190</td>\n",
       "      <td>LATIN AMERICA AND CARIBBEAN</td>\n",
       "      <td>Peru</td>\n",
       "      <td>Fully Repaid</td>\n",
       "      <td>1356856.75</td>\n",
       "      <td>1356856.75</td>\n",
       "      <td>8.25</td>\n",
       "    </tr>\n",
       "    <tr>\n",
       "      <th>9056</th>\n",
       "      <td>IBRDS0200</td>\n",
       "      <td>LATIN AMERICA AND CARIBBEAN</td>\n",
       "      <td>Argentina</td>\n",
       "      <td>Fully Repaid</td>\n",
       "      <td>10000000.00</td>\n",
       "      <td>10000000.00</td>\n",
       "      <td>9.25</td>\n",
       "    </tr>\n",
       "  </tbody>\n",
       "</table>\n",
       "<p>18439 rows × 7 columns</p>\n",
       "</div>"
      ],
      "text/plain": [
       "      Unique id                        Region    Country           Status  \\\n",
       "0      IDA00010   LATIN AMERICA AND CARIBBEAN   Honduras     Fully Repaid   \n",
       "1      IDA00020                   AFRICA EAST      Sudan         Repaying   \n",
       "2      IDA00030                    SOUTH ASIA      India     Fully Repaid   \n",
       "3      IDA00040   LATIN AMERICA AND CARIBBEAN      Chile     Fully Repaid   \n",
       "4      IDA00050   LATIN AMERICA AND CARIBBEAN   Colombia     Fully Repaid   \n",
       "...         ...                           ...        ...              ...   \n",
       "9052  IBRDS0160  MIDDLE EAST AND NORTH AFRICA    Algeria  Fully Cancelled   \n",
       "9053  IBRDS0170  MIDDLE EAST AND NORTH AFRICA    Algeria     Fully Repaid   \n",
       "9054  IBRDS0180  MIDDLE EAST AND NORTH AFRICA    Morocco     Fully Repaid   \n",
       "9055  IBRDS0190   LATIN AMERICA AND CARIBBEAN       Peru     Fully Repaid   \n",
       "9056  IBRDS0200   LATIN AMERICA AND CARIBBEAN  Argentina     Fully Repaid   \n",
       "\n",
       "      Disbursed Amount  Repaid Amount  Rate  \n",
       "0           8427973.97     8427973.97  0.75  \n",
       "1          14876498.94    14876498.94  0.75  \n",
       "2          71582713.47    71582713.47  0.75  \n",
       "3          22876674.49    22876674.49  0.75  \n",
       "4          23480995.92    23480995.92  0.75  \n",
       "...                ...            ...   ...  \n",
       "9052              0.00           0.00  0.00  \n",
       "9053        3611691.08     3611691.08  7.95  \n",
       "9054       49896082.71    49896082.71  8.25  \n",
       "9055        1356856.75     1356856.75  8.25  \n",
       "9056       10000000.00    10000000.00  9.25  \n",
       "\n",
       "[18439 rows x 7 columns]"
      ]
     },
     "execution_count": 124,
     "metadata": {},
     "output_type": "execute_result"
    }
   ],
   "source": [
    "#Combining datasets.\n",
    "combined=pd.concat([ ida_transformed, ibrd_transformed])\n",
    "combined"
   ]
  },
  {
   "cell_type": "markdown",
   "metadata": {},
   "source": [
    "## 2. Data Cleaning"
   ]
  },
  {
   "cell_type": "code",
   "execution_count": 125,
   "metadata": {},
   "outputs": [
    {
     "data": {
      "text/plain": [
       "Unique id              0\n",
       "Region                 0\n",
       "Country                0\n",
       "Status                 0\n",
       "Disbursed Amount       0\n",
       "Repaid Amount          0\n",
       "Rate                1989\n",
       "dtype: int64"
      ]
     },
     "execution_count": 125,
     "metadata": {},
     "output_type": "execute_result"
    }
   ],
   "source": [
    "#Checking na values.\n",
    "combined.isnull().sum()"
   ]
  },
  {
   "cell_type": "code",
   "execution_count": 126,
   "metadata": {},
   "outputs": [
    {
     "data": {
      "text/html": [
       "<div>\n",
       "<style scoped>\n",
       "    .dataframe tbody tr th:only-of-type {\n",
       "        vertical-align: middle;\n",
       "    }\n",
       "\n",
       "    .dataframe tbody tr th {\n",
       "        vertical-align: top;\n",
       "    }\n",
       "\n",
       "    .dataframe thead th {\n",
       "        text-align: right;\n",
       "    }\n",
       "</style>\n",
       "<table border=\"1\" class=\"dataframe\">\n",
       "  <thead>\n",
       "    <tr style=\"text-align: right;\">\n",
       "      <th></th>\n",
       "      <th>Unique id</th>\n",
       "      <th>Region</th>\n",
       "      <th>Country</th>\n",
       "      <th>Status</th>\n",
       "      <th>Disbursed Amount</th>\n",
       "      <th>Repaid Amount</th>\n",
       "      <th>Rate</th>\n",
       "    </tr>\n",
       "  </thead>\n",
       "  <tbody>\n",
       "    <tr>\n",
       "      <th>0</th>\n",
       "      <td>IDA00010</td>\n",
       "      <td>LATIN AMERICA AND CARIBBEAN</td>\n",
       "      <td>Honduras</td>\n",
       "      <td>Fully Repaid</td>\n",
       "      <td>8427973.97</td>\n",
       "      <td>8427973.97</td>\n",
       "      <td>0.75</td>\n",
       "    </tr>\n",
       "    <tr>\n",
       "      <th>1</th>\n",
       "      <td>IDA00020</td>\n",
       "      <td>AFRICA EAST</td>\n",
       "      <td>Sudan</td>\n",
       "      <td>Repaying</td>\n",
       "      <td>14876498.94</td>\n",
       "      <td>14876498.94</td>\n",
       "      <td>0.75</td>\n",
       "    </tr>\n",
       "    <tr>\n",
       "      <th>2</th>\n",
       "      <td>IDA00030</td>\n",
       "      <td>SOUTH ASIA</td>\n",
       "      <td>India</td>\n",
       "      <td>Fully Repaid</td>\n",
       "      <td>71582713.47</td>\n",
       "      <td>71582713.47</td>\n",
       "      <td>0.75</td>\n",
       "    </tr>\n",
       "    <tr>\n",
       "      <th>3</th>\n",
       "      <td>IDA00040</td>\n",
       "      <td>LATIN AMERICA AND CARIBBEAN</td>\n",
       "      <td>Chile</td>\n",
       "      <td>Fully Repaid</td>\n",
       "      <td>22876674.49</td>\n",
       "      <td>22876674.49</td>\n",
       "      <td>0.75</td>\n",
       "    </tr>\n",
       "    <tr>\n",
       "      <th>4</th>\n",
       "      <td>IDA00050</td>\n",
       "      <td>LATIN AMERICA AND CARIBBEAN</td>\n",
       "      <td>Colombia</td>\n",
       "      <td>Fully Repaid</td>\n",
       "      <td>23480995.92</td>\n",
       "      <td>23480995.92</td>\n",
       "      <td>0.75</td>\n",
       "    </tr>\n",
       "    <tr>\n",
       "      <th>...</th>\n",
       "      <td>...</td>\n",
       "      <td>...</td>\n",
       "      <td>...</td>\n",
       "      <td>...</td>\n",
       "      <td>...</td>\n",
       "      <td>...</td>\n",
       "      <td>...</td>\n",
       "    </tr>\n",
       "    <tr>\n",
       "      <th>9052</th>\n",
       "      <td>IBRDS0160</td>\n",
       "      <td>MIDDLE EAST AND NORTH AFRICA</td>\n",
       "      <td>Algeria</td>\n",
       "      <td>Fully Cancelled</td>\n",
       "      <td>0.00</td>\n",
       "      <td>0.00</td>\n",
       "      <td>0.00</td>\n",
       "    </tr>\n",
       "    <tr>\n",
       "      <th>9053</th>\n",
       "      <td>IBRDS0170</td>\n",
       "      <td>MIDDLE EAST AND NORTH AFRICA</td>\n",
       "      <td>Algeria</td>\n",
       "      <td>Fully Repaid</td>\n",
       "      <td>3611691.08</td>\n",
       "      <td>3611691.08</td>\n",
       "      <td>7.95</td>\n",
       "    </tr>\n",
       "    <tr>\n",
       "      <th>9054</th>\n",
       "      <td>IBRDS0180</td>\n",
       "      <td>MIDDLE EAST AND NORTH AFRICA</td>\n",
       "      <td>Morocco</td>\n",
       "      <td>Fully Repaid</td>\n",
       "      <td>49896082.71</td>\n",
       "      <td>49896082.71</td>\n",
       "      <td>8.25</td>\n",
       "    </tr>\n",
       "    <tr>\n",
       "      <th>9055</th>\n",
       "      <td>IBRDS0190</td>\n",
       "      <td>LATIN AMERICA AND CARIBBEAN</td>\n",
       "      <td>Peru</td>\n",
       "      <td>Fully Repaid</td>\n",
       "      <td>1356856.75</td>\n",
       "      <td>1356856.75</td>\n",
       "      <td>8.25</td>\n",
       "    </tr>\n",
       "    <tr>\n",
       "      <th>9056</th>\n",
       "      <td>IBRDS0200</td>\n",
       "      <td>LATIN AMERICA AND CARIBBEAN</td>\n",
       "      <td>Argentina</td>\n",
       "      <td>Fully Repaid</td>\n",
       "      <td>10000000.00</td>\n",
       "      <td>10000000.00</td>\n",
       "      <td>9.25</td>\n",
       "    </tr>\n",
       "  </tbody>\n",
       "</table>\n",
       "<p>16450 rows × 7 columns</p>\n",
       "</div>"
      ],
      "text/plain": [
       "      Unique id                        Region    Country           Status  \\\n",
       "0      IDA00010   LATIN AMERICA AND CARIBBEAN   Honduras     Fully Repaid   \n",
       "1      IDA00020                   AFRICA EAST      Sudan         Repaying   \n",
       "2      IDA00030                    SOUTH ASIA      India     Fully Repaid   \n",
       "3      IDA00040   LATIN AMERICA AND CARIBBEAN      Chile     Fully Repaid   \n",
       "4      IDA00050   LATIN AMERICA AND CARIBBEAN   Colombia     Fully Repaid   \n",
       "...         ...                           ...        ...              ...   \n",
       "9052  IBRDS0160  MIDDLE EAST AND NORTH AFRICA    Algeria  Fully Cancelled   \n",
       "9053  IBRDS0170  MIDDLE EAST AND NORTH AFRICA    Algeria     Fully Repaid   \n",
       "9054  IBRDS0180  MIDDLE EAST AND NORTH AFRICA    Morocco     Fully Repaid   \n",
       "9055  IBRDS0190   LATIN AMERICA AND CARIBBEAN       Peru     Fully Repaid   \n",
       "9056  IBRDS0200   LATIN AMERICA AND CARIBBEAN  Argentina     Fully Repaid   \n",
       "\n",
       "      Disbursed Amount  Repaid Amount  Rate  \n",
       "0           8427973.97     8427973.97  0.75  \n",
       "1          14876498.94    14876498.94  0.75  \n",
       "2          71582713.47    71582713.47  0.75  \n",
       "3          22876674.49    22876674.49  0.75  \n",
       "4          23480995.92    23480995.92  0.75  \n",
       "...                ...            ...   ...  \n",
       "9052              0.00           0.00  0.00  \n",
       "9053        3611691.08     3611691.08  7.95  \n",
       "9054       49896082.71    49896082.71  8.25  \n",
       "9055        1356856.75     1356856.75  8.25  \n",
       "9056       10000000.00    10000000.00  9.25  \n",
       "\n",
       "[16450 rows x 7 columns]"
      ]
     },
     "execution_count": 126,
     "metadata": {},
     "output_type": "execute_result"
    }
   ],
   "source": [
    "#removing na values.\n",
    "combined=combined.dropna()\n",
    "combined"
   ]
  },
  {
   "cell_type": "markdown",
   "metadata": {},
   "source": [
    "# 3. Data Analysis"
   ]
  },
  {
   "cell_type": "markdown",
   "metadata": {},
   "source": [
    "## Analysis Questions"
   ]
  },
  {
   "cell_type": "markdown",
   "metadata": {},
   "source": [
    "**Q1.** From which region, IDA and IBRD sanctioned highest amount loan?"
   ]
  },
  {
   "cell_type": "code",
   "execution_count": 210,
   "metadata": {},
   "outputs": [
    {
     "data": {
      "text/plain": [
       "Text(0.5, 1.0, 'IDA')"
      ]
     },
     "execution_count": 210,
     "metadata": {},
     "output_type": "execute_result"
    },
    {
     "data": {
      "image/png": "[encoded data removed]",
      "text/plain": [
       "<Figure size 432x288 with 1 Axes>"
      ]
     },
     "metadata": {
      "needs_background": "light"
     },
     "output_type": "display_data"
    }
   ],
   "source": [
    "# IDA disbursed amount vs Region\n",
    "plot_order = ida_transformed.groupby('Region')['Disbursed Amount'].sum().sort_values(ascending=False).index.values\n",
    "\n",
    "sns.barplot(x=\"Disbursed Amount\", y =\"Region\", estimator= sum, ci= None, data = ida_transformed, order= plot_order)\n",
    "plt.title(\"IDA\")\n"
   ]
  },
  {
   "cell_type": "markdown",
   "metadata": {},
   "source": [
    "**Conclusion**: From the above bar plot, we could say that IDA sanctioned highest amount of loans to countries belonging to South Asian region."
   ]
  },
  {
   "cell_type": "code",
   "execution_count": 211,
   "metadata": {},
   "outputs": [
    {
     "data": {
      "text/plain": [
       "Text(0.5, 1.0, 'IBRD')"
      ]
     },
     "execution_count": 211,
     "metadata": {},
     "output_type": "execute_result"
    },
    {
     "data": {
      "image/png": "[encoded data removed]",
      "text/plain": [
       "<Figure size 432x288 with 1 Axes>"
      ]
     },
     "metadata": {
      "needs_background": "light"
     },
     "output_type": "display_data"
    }
   ],
   "source": [
    "# IBRD disbursed amount vs Region\n",
    "plot_order = ibrd_transformed.groupby('Region')['Disbursed Amount'].sum().sort_values(ascending=False).index.values\n",
    "\n",
    "sns.barplot(x=\"Disbursed Amount\", y =\"Region\", estimator= sum, ci =None, data = ibrd_transformed, order= plot_order)\n",
    "plt.title(\"IBRD\")\n"
   ]
  },
  {
   "cell_type": "markdown",
   "metadata": {},
   "source": [
    "**Conclusion**: From the above bar plot, we could say that IBRD sanctioned highest amount of loans to countries belonging to Latin American and Caribbean region.\n"
   ]
  },
  {
   "cell_type": "code",
   "execution_count": 213,
   "metadata": {},
   "outputs": [
    {
     "data": {
      "text/plain": [
       "Text(0.5, 1.0, 'IDA and IBRD')"
      ]
     },
     "execution_count": 213,
     "metadata": {},
     "output_type": "execute_result"
    },
    {
     "data": {
      "image/png": "[encoded data removed]",
      "text/plain": [
       "<Figure size 432x288 with 1 Axes>"
      ]
     },
     "metadata": {
      "needs_background": "light"
     },
     "output_type": "display_data"
    }
   ],
   "source": [
    "#Combined disbursed amount vs Region\n",
    "plot_order = combined.groupby('Region')['Disbursed Amount'].sum().sort_values(ascending=False).index.values\n",
    "\n",
    "\n",
    "sns.barplot(x=\"Disbursed Amount\", y =\"Region\", estimator= sum, ci =None, data = combined, order= plot_order)\n",
    "plt.title(\"IDA and IBRD\")\n"
   ]
  },
  {
   "cell_type": "markdown",
   "metadata": {},
   "source": [
    "**Conclusion**: From this bar chart, we could say that countries in Latin American and Caribbean region received highest amount of loans from IBRD and IDA."
   ]
  },
  {
   "cell_type": "markdown",
   "metadata": {},
   "source": [
    "**Q2.** How many loans/credits approved in each region categorized by their loan/credit status?\n"
   ]
  },
  {
   "cell_type": "code",
   "execution_count": 163,
   "metadata": {},
   "outputs": [
    {
     "data": {
      "text/plain": [
       "Text(0.5, 1.0, 'Status of IDA and IBRD over Regions')"
      ]
     },
     "execution_count": 163,
     "metadata": {},
     "output_type": "execute_result"
    },
    {
     "data": {
      "image/png": "[encoded data removed]",
      "text/plain": [
       "<Figure size 925.75x720 with 1 Axes>"
      ]
     },
     "metadata": {
      "needs_background": "light"
     },
     "output_type": "display_data"
    }
   ],
   "source": [
    "#loans/credits in each region by their loan/credit status\n",
    "sns.catplot(y=\"Status\", hue=\"Region\", kind=\"count\", data = combined,\n",
    "           height = 10, aspect = 1)\n",
    "\n",
    "plt.title(\"Status of IDA and IBRD over Regions\")"
   ]
  },
  {
   "cell_type": "markdown",
   "metadata": {},
   "source": [
    "From the combined dataset, Latin America and Caribbean region had Fully Repaid the loan amount and the least for other regions. South Asia is at the top for repaying and the rest other regions are lower than 1000. The Disbursing amount over the region is almost equal and for Fully Disbursed, the lowest region is the Middle East and North Africa and there is nothing shown for Other regions. The other status like Fully Cancelled, Disbursing&Repaying, Terminated, Effective, Signed, Approved and Fully Transferred are very low in numbers. "
   ]
  },
  {
   "cell_type": "markdown",
   "metadata": {},
   "source": [
    "**Q3.** Draw some insight from Service charge of Total disbursed amount of IBRD and IDA, of different Region."
   ]
  },
  {
   "cell_type": "code",
   "execution_count": 134,
   "metadata": {},
   "outputs": [
    {
     "data": {
      "text/plain": [
       "Text(0.5, 1.0, 'IDA rate')"
      ]
     },
     "execution_count": 134,
     "metadata": {},
     "output_type": "execute_result"
    },
    {
     "data": {
      "image/png": "[encoded data removed]",
      "text/plain": [
       "<Figure size 720x720 with 1 Axes>"
      ]
     },
     "metadata": {
      "needs_background": "light"
     },
     "output_type": "display_data"
    },
    {
     "data": {
      "image/png": "[encoded data removed]",
      "text/plain": [
       "<Figure size 720x720 with 1 Axes>"
      ]
     },
     "metadata": {
      "needs_background": "light"
     },
     "output_type": "display_data"
    }
   ],
   "source": [
    "sns.catplot(x=\"Rate\", y =\"Region\", estimator= sum, ci =None,height =10, data = ibrd_transformed)\n",
    "plt.title(\"IBRD rate\")\n",
    "sns.catplot(x=\"Rate\", y =\"Region\", estimator= sum, ci =None,height = 10, data = ida_transformed)\n",
    "plt.title(\"IDA rate\")"
   ]
  },
  {
   "cell_type": "markdown",
   "metadata": {},
   "source": [
    "**Conclusion.** From the above plots we can conclude that IDA provides loan at very low rate (0% - 5%) , when compared to IBRD (0% - 17.5%). Also middle east, north Africa and west African countries received loans from IDA at less than 3 percentage interset rate.\n"
   ]
  },
  {
   "cell_type": "markdown",
   "metadata": {},
   "source": [
    "**Q4.** Which Country has taken highest amount loans from IDA and IBRD over the period of time?"
   ]
  },
  {
   "cell_type": "code",
   "execution_count": 189,
   "metadata": {},
   "outputs": [
    {
     "data": {
      "text/plain": [
       "Text(0.5, 1.0, 'Countries which took highest amount of loans from IDA')"
      ]
     },
     "execution_count": 189,
     "metadata": {},
     "output_type": "execute_result"
    },
    {
     "data": {
      "image/png": "[encoded data removed]",
      "text/plain": [
       "<Figure size 576x576 with 1 Axes>"
      ]
     },
     "metadata": {
      "needs_background": "light"
     },
     "output_type": "display_data"
    }
   ],
   "source": [
    "##Countries which took highest amount loan from IDA.\n",
    "U = ida_transformed.nlargest(45, ['Disbursed Amount'])\n",
    "\n",
    "plot_order = U.groupby('Country')['Disbursed Amount'].sum().sort_values(ascending=False).index.values\n",
    "\n",
    "sns.catplot(x=\"Disbursed Amount\", y=\"Country\", kind=\"bar\", height = 8, ci= None, data=U, estimator = sum, order = plot_order)\n",
    "plt.title(\"Countries which took highest amount of loans from IDA\") "
   ]
  },
  {
   "attachments": {},
   "cell_type": "markdown",
   "metadata": {},
   "source": [
    "**IDA**: The above distribution shows the countries which got highest amount of loan disbursed from IDA. The country which got highest amount of loan is India followed by Pakistan . The loan provided is for reducing poverty, boost economic growth and reducing inequalities."
   ]
  },
  {
   "cell_type": "code",
   "execution_count": 184,
   "metadata": {},
   "outputs": [
    {
     "data": {
      "text/plain": [
       "Text(0.5, 1.0, 'Countries which took highest amount of loans from IBRD')"
      ]
     },
     "execution_count": 184,
     "metadata": {},
     "output_type": "execute_result"
    },
    {
     "data": {
      "image/png": "[encoded data removed]",
      "text/plain": [
       "<Figure size 576x576 with 1 Axes>"
      ]
     },
     "metadata": {
      "needs_background": "light"
     },
     "output_type": "display_data"
    }
   ],
   "source": [
    "#Countries which took highest amount loan from IBRD.\n",
    "Up = ibrd_transformed.nlargest(25, ['Disbursed Amount'])\n",
    "\n",
    "plot_order = Up.groupby('Country')['Disbursed Amount'].sum().sort_values(ascending=False).index.values\n",
    "\n",
    "sns.catplot(x=\"Disbursed Amount\", y=\"Country\", kind=\"bar\", height = 8, ci =None, data=Up, estimator = sum, order = plot_order)\n",
    "plt.title(\"Countries which took highest amount of loans from IBRD\")      "
   ]
  },
  {
   "attachments": {},
   "cell_type": "markdown",
   "metadata": {},
   "source": [
    "**IBRD**: The above distribution shows the countries which got highest amount of loan disbursed from IBRD. The country which got highest amount of loan is 'Mexico' and 'Korea, Republic of' followed by 'Poland'. The loans provided is used overall development of a country and alleviating poverty around the world."
   ]
  },
  {
   "cell_type": "code",
   "execution_count": 183,
   "metadata": {},
   "outputs": [
    {
     "data": {
      "text/plain": [
       "Text(0.5, 1.0, 'Countries which took highest amount of loans from IDA and IBRD')"
      ]
     },
     "execution_count": 183,
     "metadata": {},
     "output_type": "execute_result"
    },
    {
     "data": {
      "image/png": "[encoded data removed]",
      "text/plain": [
       "<Figure size 576x576 with 1 Axes>"
      ]
     },
     "metadata": {
      "needs_background": "light"
     },
     "output_type": "display_data"
    }
   ],
   "source": [
    "#Countries which took highest amount loan from IDA and IBRD.\n",
    "Top = combined.nlargest(35, ['Disbursed Amount'])\n",
    "\n",
    "plot_order = Top.groupby('Country')['Disbursed Amount'].sum().sort_values(ascending=False).index.values\n",
    "\n",
    "sns.catplot(x=\"Disbursed Amount\", y=\"Country\", kind=\"bar\",ci =None, height = 8, data = Top, estimator = sum, order = plot_order)\n",
    "plt.title(\"Countries which took highest amount of loans from IDA and IBRD\")"
   ]
  },
  {
   "cell_type": "markdown",
   "metadata": {},
   "source": [
    "**COMBINED**: The above distribution shows the countries which got highest amount of loan disbursed from both IDA and IBRD. The country which got highest amount of loan is Mexico followed by Poland."
   ]
  },
  {
   "cell_type": "markdown",
   "metadata": {},
   "source": [
    "**Q5.** Is there any Relationship between credit status, region and disbursed amount?"
   ]
  },
  {
   "cell_type": "code",
   "execution_count": 218,
   "metadata": {},
   "outputs": [
    {
     "data": {
      "text/plain": [
       "Text(0.5, 1.0, 'Relationship between credit status, region and disbursed amount')"
      ]
     },
     "execution_count": 218,
     "metadata": {},
     "output_type": "execute_result"
    },
    {
     "data": {
      "image/png": "[encoded data removed]",
      "text/plain": [
       "<Figure size 864x576 with 1 Axes>"
      ]
     },
     "metadata": {
      "needs_background": "light"
     },
     "output_type": "display_data"
    }
   ],
   "source": [
    "#Relationship between credit status, region and disbursed amount\n",
    "fig, ax = plt.subplots(figsize = (12,8))\n",
    "fig.autofmt_xdate()\n",
    "\n",
    " \n",
    "\n",
    "plot_order = combined.groupby('Region')['Disbursed Amount'].sum().sort_values(ascending=False).index.values\n",
    "\n",
    " \n",
    "\n",
    "\n",
    "line = sns.lineplot(data=combined, x=\"Region\", y=\"Disbursed Amount\",hue= \"Status\", style = \"Status\", ci=None, estimator=sum, markers= True)\n",
    "line.legend(loc='upper right', bbox_to_anchor=(1, 1))\n",
    "\n",
    "plt.title(\"Relationship between credit status, region and disbursed amount\")"
   ]
  },
  {
   "cell_type": "code",
   "execution_count": 169,
   "metadata": {},
   "outputs": [
    {
     "data": {
      "text/plain": [
       "Text(0.5, 1.0, 'Relationship between credit status, region and disbursed amount')"
      ]
     },
     "execution_count": 169,
     "metadata": {},
     "output_type": "execute_result"
    },
    {
     "data": {
      "image/png": "[encoded data removed]",
      "text/plain": [
       "<Figure size 1080x432 with 1 Axes>"
      ]
     },
     "metadata": {
      "needs_background": "light"
     },
     "output_type": "display_data"
    }
   ],
   "source": [
    "\n",
    "\n",
    "# Adjusting the size of the graph\n",
    "fig, ax = plt.subplots(figsize = (15,6))\n",
    "\n",
    " \n",
    "# Rotating the x axis label\n",
    "fig.autofmt_xdate()\n",
    "\n",
    "\n",
    "# Placing the ascending value of status in plot_order which is used in plot\n",
    "plot_order = combined.groupby('Status')['Disbursed Amount'].sum().sort_values(ascending=False).index.values\n",
    "\n",
    " \n",
    "# Plotting the bar plot\n",
    "line1 = sns.barplot(x=\"Status\", y=\"Disbursed Amount\", hue=\"Region\", data=combined, estimator=sum, ci=None, order = plot_order)\n",
    " \n",
    "\n",
    "# Adding the legend\n",
    "line1.legend(loc='upper right', bbox_to_anchor=(1, 1))\n",
    "\n",
    "plt.title(\"Relationship between credit status, region and disbursed amount\")"
   ]
  },
  {
   "cell_type": "markdown",
   "metadata": {},
   "source": [
    "From the above graphs we can see that the region of latin America and Caribbean has fully repaid most of the loan and South Asia is the region with the highest amount of loan still repaying."
   ]
  },
  {
   "cell_type": "markdown",
   "metadata": {},
   "source": [
    "**Q6.** Find whether there is any relationship between repaid amount and disbursed amount of IDA and IBRD over the period of time? "
   ]
  },
  {
   "cell_type": "code",
   "execution_count": 199,
   "metadata": {},
   "outputs": [
    {
     "data": {
      "text/plain": [
       "Text(0.5, 1.0, 'Relationship between repaid amount and disbursed amount of IDA')"
      ]
     },
     "execution_count": 199,
     "metadata": {},
     "output_type": "execute_result"
    },
    {
     "data": {
      "image/png": "[encoded data removed]",
      "text/plain": [
       "<Figure size 864x432 with 1 Axes>"
      ]
     },
     "metadata": {
      "needs_background": "light"
     },
     "output_type": "display_data"
    }
   ],
   "source": [
    "\n",
    "# Adjusting the size of the graph\n",
    "fig, ax = plt.subplots(figsize = (12,6))\n",
    "\n",
    "\n",
    "sns.regplot(x = 'Disbursed Amount' , y = 'Repaid Amount' , data = ida_transformed, ci = None )\n",
    "\n",
    "plt.title(\"Relationship between repaid amount and disbursed amount of IDA\")"
   ]
  },
  {
   "cell_type": "code",
   "execution_count": 152,
   "metadata": {},
   "outputs": [
    {
     "data": {
      "text/html": [
       "<div>\n",
       "<style scoped>\n",
       "    .dataframe tbody tr th:only-of-type {\n",
       "        vertical-align: middle;\n",
       "    }\n",
       "\n",
       "    .dataframe tbody tr th {\n",
       "        vertical-align: top;\n",
       "    }\n",
       "\n",
       "    .dataframe thead th {\n",
       "        text-align: right;\n",
       "    }\n",
       "</style>\n",
       "<table border=\"1\" class=\"dataframe\">\n",
       "  <thead>\n",
       "    <tr style=\"text-align: right;\">\n",
       "      <th></th>\n",
       "      <th>Disbursed Amount</th>\n",
       "      <th>Repaid Amount</th>\n",
       "      <th>Rate</th>\n",
       "    </tr>\n",
       "  </thead>\n",
       "  <tbody>\n",
       "    <tr>\n",
       "      <th>Disbursed Amount</th>\n",
       "      <td>1.000000</td>\n",
       "      <td>0.448691</td>\n",
       "      <td>0.069936</td>\n",
       "    </tr>\n",
       "    <tr>\n",
       "      <th>Repaid Amount</th>\n",
       "      <td>0.448691</td>\n",
       "      <td>1.000000</td>\n",
       "      <td>-0.111671</td>\n",
       "    </tr>\n",
       "    <tr>\n",
       "      <th>Rate</th>\n",
       "      <td>0.069936</td>\n",
       "      <td>-0.111671</td>\n",
       "      <td>1.000000</td>\n",
       "    </tr>\n",
       "  </tbody>\n",
       "</table>\n",
       "</div>"
      ],
      "text/plain": [
       "                  Disbursed Amount  Repaid Amount      Rate\n",
       "Disbursed Amount          1.000000       0.448691  0.069936\n",
       "Repaid Amount             0.448691       1.000000 -0.111671\n",
       "Rate                      0.069936      -0.111671  1.000000"
      ]
     },
     "execution_count": 152,
     "metadata": {},
     "output_type": "execute_result"
    }
   ],
   "source": [
    "ida_transformed.corr()"
   ]
  },
  {
   "cell_type": "code",
   "execution_count": 197,
   "metadata": {},
   "outputs": [
    {
     "data": {
      "text/plain": [
       "Text(0.5, 1.0, 'Relationship between repaid amount and disbursed amount of IBRD')"
      ]
     },
     "execution_count": 197,
     "metadata": {},
     "output_type": "execute_result"
    },
    {
     "data": {
      "image/png": "[encoded data removed]",
      "text/plain": [
       "<Figure size 864x432 with 1 Axes>"
      ]
     },
     "metadata": {
      "needs_background": "light"
     },
     "output_type": "display_data"
    }
   ],
   "source": [
    "# Adjusting the size of the graph\n",
    "fig, ax = plt.subplots(figsize = (12,6))\n",
    "\n",
    " \n",
    "sns.regplot(x = 'Disbursed Amount' , y = 'Repaid Amount' , data = ibrd_transformed, ci = None )\n",
    "\n",
    "plt.title(\"Relationship between repaid amount and disbursed amount of IBRD\")"
   ]
  },
  {
   "cell_type": "code",
   "execution_count": 153,
   "metadata": {},
   "outputs": [
    {
     "data": {
      "text/html": [
       "<div>\n",
       "<style scoped>\n",
       "    .dataframe tbody tr th:only-of-type {\n",
       "        vertical-align: middle;\n",
       "    }\n",
       "\n",
       "    .dataframe tbody tr th {\n",
       "        vertical-align: top;\n",
       "    }\n",
       "\n",
       "    .dataframe thead th {\n",
       "        text-align: right;\n",
       "    }\n",
       "</style>\n",
       "<table border=\"1\" class=\"dataframe\">\n",
       "  <thead>\n",
       "    <tr style=\"text-align: right;\">\n",
       "      <th></th>\n",
       "      <th>Disbursed Amount</th>\n",
       "      <th>Repaid Amount</th>\n",
       "      <th>Rate</th>\n",
       "    </tr>\n",
       "  </thead>\n",
       "  <tbody>\n",
       "    <tr>\n",
       "      <th>Disbursed Amount</th>\n",
       "      <td>1.000000</td>\n",
       "      <td>0.672912</td>\n",
       "      <td>-0.254334</td>\n",
       "    </tr>\n",
       "    <tr>\n",
       "      <th>Repaid Amount</th>\n",
       "      <td>0.672912</td>\n",
       "      <td>1.000000</td>\n",
       "      <td>-0.068987</td>\n",
       "    </tr>\n",
       "    <tr>\n",
       "      <th>Rate</th>\n",
       "      <td>-0.254334</td>\n",
       "      <td>-0.068987</td>\n",
       "      <td>1.000000</td>\n",
       "    </tr>\n",
       "  </tbody>\n",
       "</table>\n",
       "</div>"
      ],
      "text/plain": [
       "                  Disbursed Amount  Repaid Amount      Rate\n",
       "Disbursed Amount          1.000000       0.672912 -0.254334\n",
       "Repaid Amount             0.672912       1.000000 -0.068987\n",
       "Rate                     -0.254334      -0.068987  1.000000"
      ]
     },
     "execution_count": 153,
     "metadata": {},
     "output_type": "execute_result"
    }
   ],
   "source": [
    "ibrd_transformed.corr()"
   ]
  },
  {
   "cell_type": "markdown",
   "metadata": {},
   "source": [
    "**Conclusion**: The above graphs illustrates a moderate positive  relationship between the disbursed amount and the repaid amount however the correlation between them is on the weaker side because  the distance between the points and the regression line is increasing as we move forward."
   ]
  },
  {
   "cell_type": "markdown",
   "metadata": {},
   "source": [
    "______________________________________________________________________________________________________________________________"
   ]
  },
  {
   "cell_type": "markdown",
   "metadata": {},
   "source": [
    "<b style= \"font-size:20px;\">CONCLUSION</b>\n",
    "\n",
    "Latin America and Caribbean region had Fully Repaid the loan amount. South Asia is at the top of the list for repaying, while the rest of the regions numbers are below 1000. Countries in Latin American and Caribbean received highest amount of loans from IBRD and IDA. The country which got highest amount was Mexico followed by Poland. We have also found correlation between the repaid amount and dispersed amount on average, there is quite good chance that there will be more repayments, if disbursement from the bank is more."
   ]
  },
  {
   "cell_type": "markdown",
   "metadata": {},
   "source": [
    "<b style= \"font-size:20px;\">RECOMMENDATION</b>\n",
    "\n",
    "We can say that the two branches of the world bank that are IBRD and IDA issue a huge sum of loan to countries ,  even though most of the countries has repaid the initial loan, they are still in debt because they have taken more loans for the development of their country. This arises the risk of getting into a debt trap. So IBRD and Ida should be more careful while issuing more loans to the same country because issuing more loans can increase inflation and reducing the purchasing power of the people of the country which in turn reduces the value of National income which is high by the amount but low at its value. So, there can be a misleading interpretation of the fact that the country is growing but actually, it's not."
   ]
  },
  {
   "cell_type": "markdown",
   "metadata": {},
   "source": [
    "## References of websites for codes for Visualizations:"
   ]
  },
  {
   "cell_type": "markdown",
   "metadata": {},
   "source": [
    "Matplotlib,<br/>\n",
    "pandas,<br/>\n",
    "seaborn,<br/>\n",
    "https://www.geeksforgeeks.org<br/>\n",
    "https://stackoverflow.com<br/>\n",
    "https://www.marsja.se/seaborn-line-plots-multiple/"
   ]
  }
 ],
 "metadata": {
  "kernelspec": {
   "display_name": "Python 3",
   "language": "python",
   "name": "python3"
  },
  "language_info": {
   "codemirror_mode": {
    "name": "ipython",
    "version": 3
   },
   "file_extension": ".py",
   "mimetype": "text/x-python",
   "name": "python",
   "nbconvert_exporter": "python",
   "pygments_lexer": "ipython3",
   "version": "3.8.8"
  }
 },
 "nbformat": 4,
 "nbformat_minor": 4
}
